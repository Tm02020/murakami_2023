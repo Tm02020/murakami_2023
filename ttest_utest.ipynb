{
 "cells": [
  {
   "cell_type": "markdown",
   "metadata": {},
   "source": [
    "# グラフ作成・検定"
   ]
  },
  {
   "cell_type": "markdown",
   "metadata": {},
   "source": [
    "## データの用意（ここから）"
   ]
  },
  {
   "cell_type": "code",
   "execution_count": 1,
   "metadata": {},
   "outputs": [],
   "source": [
    "import pandas as pd\n",
    "import numpy as np\n",
    "from scipy import stats\n",
    "from scipy.stats import kruskal\n",
    "import matplotlib.pyplot as plt\n",
    "import statsmodels.formula.api as smf\n",
    "import seaborn as sns\n",
    "import statsmodels.api as sm\n",
    "from statsmodels.stats.multicomp import pairwise_tukeyhsd\n",
    "from statsmodels.formula.api import ols\n",
    "from statsmodels.stats.anova import anova_lm\n",
    "plt.rcParams['font.family'] = \"MS Gothic\"\n",
    "plt.rcParams[\"font.size\"] = 15\n",
    "\n",
    "from matplotlib import rc\n",
    "rc('font',**{'family':'serif','serif':[\"MS Gothic\"]})\n",
    "plt.rcParams['pdf.fonttype'] = 42\n",
    "\n",
    "# df = pd.read_csv('../data/2023result01.csv')\n",
    "df = pd.read_csv('../data/psakujo.csv')\n",
    "df_im = pd.read_csv('../data/im_check.csv')\n",
    "dfq = pd.read_csv(\"../data/que.csv\")\n",
    "df_m = pd.read_csv(\"../data/df_move.csv\")"
   ]
  },
  {
   "cell_type": "code",
   "execution_count": null,
   "metadata": {},
   "outputs": [],
   "source": [
    "df = df.dropna()\n",
    "df[\"au_poi\"] = df[\"au_poi\"]-1\n",
    "df_im = df_im.dropna()\n",
    "df_im = df_im.rename(columns={'ty_ch': 'ty_unch', 'au_ch': 'au_unch', 'ci_ch': 'ci_unch'})\n",
    "df_im[\"ty_ch\"] = 13-df_im[\"ty_unch\"]\n",
    "df_im[\"au_ch\"] = 13-df_im[\"au_unch\"]\n",
    "df_im[\"ci_ch\"] = 10-df_im[\"ci_unch\"]\n",
    "# df_im = df_im.reindex(columns={'num', 'ty_ch', 'au_ch', 'ci_ch', 'ty_unch', 'au_unch', 'ci_unch'})\n",
    "df_m = df_m.dropna()\n",
    "df_im.loc[23] = df_im.iloc[21]\n",
    "df_im = df_im.drop(21)\n",
    "df_im"
   ]
  },
  {
   "cell_type": "code",
   "execution_count": 3,
   "metadata": {},
   "outputs": [],
   "source": [
    "df_1 = df[df[\"ty_num\"]==1]\n",
    "df_2 = df[df[\"ty_num\"]==2]\n",
    "df_3 = df[df[\"ty_num\"]==3]\n",
    "df_4 = df[df[\"ty_num\"]==4]"
   ]
  },
  {
   "cell_type": "code",
   "execution_count": 4,
   "metadata": {},
   "outputs": [
    {
     "name": "stderr",
     "output_type": "stream",
     "text": [
      "C:\\ProgramData\\Anaconda3\\lib\\site-packages\\pandas\\core\\indexing.py:671: SettingWithCopyWarning: \n",
      "A value is trying to be set on a copy of a slice from a DataFrame\n",
      "\n",
      "See the caveats in the documentation: https://pandas.pydata.org/pandas-docs/stable/user_guide/indexing.html#returning-a-view-versus-a-copy\n",
      "  self._setitem_with_indexer(indexer, value)\n"
     ]
    }
   ],
   "source": [
    "df[\"au_num_ty\"] = 0\n",
    "df[\"ci_num_ty\"] = 0\n",
    "for i in range(len(df)+2):\n",
    "    if i == 21 or i == 22:\n",
    "        continue\n",
    "    if df[\"au_num\"][i] == 5:\n",
    "        df[\"au_num_ty\"].loc[i] = 1\n",
    "    elif df[\"au_num\"][i] == 6:\n",
    "        df[\"au_num_ty\"].loc[i] = 2\n",
    "    elif df[\"au_num\"][i] == 7:\n",
    "        df[\"au_num_ty\"].loc[i] = 3\n",
    "    elif df[\"au_num\"][i] == 8:\n",
    "        df[\"au_num_ty\"].loc[i] = 4\n",
    "    \n",
    "    if df[\"ci_num\"][i] == 9:\n",
    "        df[\"ci_num_ty\"].loc[i] = 1\n",
    "    elif df[\"ci_num\"][i] == 10:\n",
    "        df[\"ci_num_ty\"].loc[i] = 2\n",
    "    elif df[\"ci_num\"][i] == 11:\n",
    "        df[\"ci_num_ty\"].loc[i] = 3\n",
    "    elif df[\"ci_num\"][i] == 12:\n",
    "        df[\"ci_num_ty\"].loc[i] = 4"
   ]
  },
  {
   "cell_type": "code",
   "execution_count": 5,
   "metadata": {},
   "outputs": [
    {
     "data": {
      "text/html": [
       "<div>\n",
       "<style scoped>\n",
       "    .dataframe tbody tr th:only-of-type {\n",
       "        vertical-align: middle;\n",
       "    }\n",
       "\n",
       "    .dataframe tbody tr th {\n",
       "        vertical-align: top;\n",
       "    }\n",
       "\n",
       "    .dataframe thead th {\n",
       "        text-align: right;\n",
       "    }\n",
       "</style>\n",
       "<table border=\"1\" class=\"dataframe\">\n",
       "  <thead>\n",
       "    <tr style=\"text-align: right;\">\n",
       "      <th></th>\n",
       "      <th>user</th>\n",
       "      <th>num</th>\n",
       "      <th>2poi</th>\n",
       "      <th>2look</th>\n",
       "      <th>2move</th>\n",
       "      <th>num</th>\n",
       "      <th>3poi</th>\n",
       "      <th>3look</th>\n",
       "      <th>3move</th>\n",
       "      <th>num</th>\n",
       "      <th>4poi</th>\n",
       "      <th>4look</th>\n",
       "      <th>4move</th>\n",
       "    </tr>\n",
       "  </thead>\n",
       "  <tbody>\n",
       "    <tr>\n",
       "      <th>1</th>\n",
       "      <td>2</td>\n",
       "      <td>2</td>\n",
       "      <td>4.0</td>\n",
       "      <td>1.16</td>\n",
       "      <td>15.0</td>\n",
       "      <td>7</td>\n",
       "      <td>5.0</td>\n",
       "      <td>3.74</td>\n",
       "      <td>22.0</td>\n",
       "      <td>12</td>\n",
       "      <td>9.0</td>\n",
       "      <td>1.00</td>\n",
       "      <td>7.0</td>\n",
       "    </tr>\n",
       "    <tr>\n",
       "      <th>5</th>\n",
       "      <td>6</td>\n",
       "      <td>2</td>\n",
       "      <td>4.0</td>\n",
       "      <td>4.14</td>\n",
       "      <td>19.0</td>\n",
       "      <td>7</td>\n",
       "      <td>3.0</td>\n",
       "      <td>5.21</td>\n",
       "      <td>21.0</td>\n",
       "      <td>12</td>\n",
       "      <td>10.0</td>\n",
       "      <td>7.92</td>\n",
       "      <td>19.0</td>\n",
       "    </tr>\n",
       "    <tr>\n",
       "      <th>9</th>\n",
       "      <td>10</td>\n",
       "      <td>2</td>\n",
       "      <td>5.0</td>\n",
       "      <td>1.53</td>\n",
       "      <td>19.0</td>\n",
       "      <td>7</td>\n",
       "      <td>4.0</td>\n",
       "      <td>2.25</td>\n",
       "      <td>25.0</td>\n",
       "      <td>12</td>\n",
       "      <td>4.0</td>\n",
       "      <td>3.54</td>\n",
       "      <td>32.0</td>\n",
       "    </tr>\n",
       "    <tr>\n",
       "      <th>13</th>\n",
       "      <td>14</td>\n",
       "      <td>2</td>\n",
       "      <td>4.0</td>\n",
       "      <td>7.56</td>\n",
       "      <td>42.0</td>\n",
       "      <td>7</td>\n",
       "      <td>5.0</td>\n",
       "      <td>9.89</td>\n",
       "      <td>48.0</td>\n",
       "      <td>12</td>\n",
       "      <td>8.0</td>\n",
       "      <td>7.97</td>\n",
       "      <td>49.0</td>\n",
       "    </tr>\n",
       "    <tr>\n",
       "      <th>17</th>\n",
       "      <td>18</td>\n",
       "      <td>2</td>\n",
       "      <td>4.0</td>\n",
       "      <td>2.84</td>\n",
       "      <td>16.0</td>\n",
       "      <td>7</td>\n",
       "      <td>4.0</td>\n",
       "      <td>1.92</td>\n",
       "      <td>21.0</td>\n",
       "      <td>12</td>\n",
       "      <td>6.0</td>\n",
       "      <td>5.23</td>\n",
       "      <td>35.0</td>\n",
       "    </tr>\n",
       "  </tbody>\n",
       "</table>\n",
       "</div>"
      ],
      "text/plain": [
       "    user  num  2poi  2look  2move  num  3poi  3look  3move  num  4poi  4look  \\\n",
       "1      2    2   4.0   1.16   15.0    7   5.0   3.74   22.0   12   9.0   1.00   \n",
       "5      6    2   4.0   4.14   19.0    7   3.0   5.21   21.0   12  10.0   7.92   \n",
       "9     10    2   5.0   1.53   19.0    7   4.0   2.25   25.0   12   4.0   3.54   \n",
       "13    14    2   4.0   7.56   42.0    7   5.0   9.89   48.0   12   8.0   7.97   \n",
       "17    18    2   4.0   2.84   16.0    7   4.0   1.92   21.0   12   6.0   5.23   \n",
       "\n",
       "    4move  \n",
       "1     7.0  \n",
       "5    19.0  \n",
       "9    32.0  \n",
       "13   49.0  \n",
       "17   35.0  "
      ]
     },
     "execution_count": 5,
     "metadata": {},
     "output_type": "execute_result"
    }
   ],
   "source": [
    "df_11 = df_1.rename(columns={\"ty_num\":\"num\", \"au_num\":\"num\", \"ci_num\":\"num\", 'ty_poi': '1poi', 'ty_look': '1look', 'ty_move': '1move', 'au_poi': '2poi', 'au_look': '2look', 'au_move': '2move', 'ci_poi': '3poi', 'ci_look': '3look', 'ci_move': '3move'})\n",
    "df_1_1 = df_11[[\"1poi\", \"1look\", \"1move\"]].reset_index(drop=True)\n",
    "df_1_2 = df_11[[\"2poi\", \"2look\", \"2move\"]].reset_index(drop=True)\n",
    "df_1_3 = df_11[[\"3poi\", \"3look\", \"3move\"]].reset_index(drop=True)\n",
    "df_22 = df_2.rename(columns={\"ty_num\":\"num\", \"au_num\":\"num\", \"ci_num\":\"num\", 'ty_poi': '2poi', 'ty_look': '2look', 'ty_move': '2move', 'au_poi': '3poi', 'au_look': '3look', 'au_move': '3move', 'ci_poi': '4poi', 'ci_look': '4look', 'ci_move': '4move'})\n",
    "df_2_2 = df_22[[\"2poi\", \"2look\", \"2move\"]].reset_index(drop=True)\n",
    "df_2_3 = df_22[[\"3poi\", \"3look\", \"3move\"]].reset_index(drop=True)\n",
    "df_2_4 = df_22[[\"4poi\", \"4look\", \"4move\"]].reset_index(drop=True)\n",
    "df_33 = df_3.rename(columns={\"ty_num\":\"num\", \"au_num\":\"num\", \"ci_num\":\"num\", 'ty_poi': '3poi', 'ty_look': '3look', 'ty_move': '3move', 'au_poi': '4poi', 'au_look': '4look', 'au_move': '4move', 'ci_poi': '1poi', 'ci_look': '1look', 'ci_move': '1move'})\n",
    "df_3_3 = df_33[[\"3poi\", \"3look\", \"3move\"]].reset_index(drop=True)\n",
    "df_3_4 = df_33[[\"4poi\", \"4look\", \"4move\"]].reset_index(drop=True)\n",
    "df_3_1 = df_33[[\"1poi\", \"1look\", \"1move\"]].reset_index(drop=True)\n",
    "df_44 = df_4.rename(columns={\"ty_num\":\"num\", \"au_num\":\"num\", \"ci_num\":\"num\", 'ty_poi': '4poi', 'ty_look': '4look', 'ty_move': '4move', 'au_poi': '1poi', 'au_look': '1look', 'au_move': '1move', 'ci_poi': '2poi', 'ci_look': '2look', 'ci_move': '2move'})\n",
    "df_4_4 = df_44[[\"4poi\", \"4look\", \"4move\"]].reset_index(drop=True)\n",
    "df_4_1 = df_44[[\"1poi\", \"1look\", \"1move\"]].reset_index(drop=True)\n",
    "df_4_2 = df_44[[\"2poi\", \"2look\", \"2move\"]].reset_index(drop=True)\n",
    "df_22"
   ]
  },
  {
   "cell_type": "markdown",
   "metadata": {},
   "source": [
    "## データの用意（ここまで）"
   ]
  },
  {
   "cell_type": "markdown",
   "metadata": {},
   "source": [
    "## グラフ"
   ]
  },
  {
   "cell_type": "code",
   "execution_count": 5,
   "metadata": {},
   "outputs": [
    {
     "data": {
      "image/png": "[encoded data removed]",
      "text/plain": [
       "<Figure size 432x288 with 1 Axes>"
      ]
     },
     "metadata": {
      "needs_background": "light"
     },
     "output_type": "display_data"
    },
    {
     "data": {
      "image/png": "[encoded data removed]",
      "text/plain": [
       "<Figure size 432x288 with 1 Axes>"
      ]
     },
     "metadata": {
      "needs_background": "light"
     },
     "output_type": "display_data"
    },
    {
     "data": {
      "image/png": "[encoded data removed]",
      "text/plain": [
       "<Figure size 432x288 with 1 Axes>"
      ]
     },
     "metadata": {
      "needs_background": "light"
     },
     "output_type": "display_data"
    },
    {
     "data": {
      "image/png": "[encoded data removed]",
      "text/plain": [
       "<Figure size 432x288 with 1 Axes>"
      ]
     },
     "metadata": {
      "needs_background": "light"
     },
     "output_type": "display_data"
    }
   ],
   "source": [
    "# 重要語の箱ひげ図\n",
    "for x in range(4):\n",
    "    imn = x+1\n",
    "    dftyim = df_im[df_im[\"num\"]==imn][\"ty_ch\"]\n",
    "    dfauim = df_im[df_im[\"num\"]==imn][\"au_ch\"]\n",
    "    dfciim = df_im[df_im[\"num\"]==imn][\"ci_ch\"]\n",
    "    plt.boxplot([dftyim, dfauim, dfciim], labels=[\"台風\", \"オーストラリアの歴史\", \"都市工学\"])\n",
    "    plt.xlabel(\"科目\")\n",
    "    plt.ylabel(\"重要語非確認数\")\n",
    "    plt.title(f\"{imn}グループ目の重要語非確認数\")\n",
    "    plt.show()"
   ]
  },
  {
   "cell_type": "code",
   "execution_count": 10,
   "metadata": {},
   "outputs": [],
   "source": [
    "# print(imex[imex[\"f_or_s\"]==1])\n",
    "# imfaex[imfaex[\"f_or_s\"]==1]\n",
    "# autoex[autoex[\"f_or_s\"]==1]"
   ]
  },
  {
   "cell_type": "markdown",
   "metadata": {},
   "source": [
    "## 説明用グラフの作成（ここから）"
   ]
  },
  {
   "cell_type": "code",
   "execution_count": 8,
   "metadata": {},
   "outputs": [
    {
     "data": {
      "image/png": "[encoded data removed]",
      "text/plain": [
       "<Figure size 648x360 with 1 Axes>"
      ]
     },
     "metadata": {
      "needs_background": "light"
     },
     "output_type": "display_data"
    }
   ],
   "source": [
    "autoex = pd.read_csv('../data/一定例.csv')\n",
    "fig = plt.figure(figsize=(9, 5))\n",
    "plt.plot(autoex[\"seconds\"], autoex[\"f_or_s\"], label=\"(C3)\")\n",
    "plt.xlabel(\"秒\")\n",
    "plt.ylabel(\" 正面を向く　　　　　　　スライドを向く\")\n",
    "plt.title(\"C3と重要語の対応\", fontsize=15)\n",
    "plt.tick_params(labelleft=False)\n",
    "# plt.legend()\n",
    "\n",
    "# 重要語\n",
    "plt.hlines(0, 0, 10, color=\"r\")# y, x, x\n",
    "plt.vlines(10, 0, 1, color=\"r\")# x, y, y\n",
    "plt.hlines(1, 10, 14, color=\"r\")# y, x, x\n",
    "plt.vlines(14, 0, 1, color=\"r\")# x, y, y\n",
    "plt.hlines(0, 14, 25, color=\"r\")# y, x, x\n",
    "plt.vlines(25, 0, 1, color=\"r\")# x, y, y\n",
    "plt.hlines(1, 25, 28, color=\"r\")# y, x, x\n",
    "plt.vlines(28, 0, 1, color=\"r\")# x, y, y\n",
    "plt.hlines(0, 28, 41, color=\"r\")# y, x, x\n",
    "plt.vlines(41, 0, 1, color=\"r\")# x, y, y\n",
    "plt.hlines(1, 41, 47, color=\"r\")# y, x, x\n",
    "plt.vlines(47, 0, 1, color=\"r\")# x, y, y\n",
    "plt.hlines(0, 47, 60, color=\"r\")# y, x, x\n",
    "# plt.savefig(\"../data/グラフ類/vsc3.jpg\")\n",
    "plt.show()"
   ]
  },
  {
   "cell_type": "code",
   "execution_count": 9,
   "metadata": {},
   "outputs": [],
   "source": [
    "# imex = pd.read_csv('../data/重要語例.csv')\n",
    "# plt.plot(imex[\"seconds\"], imex[\"f_or_s\"])\n",
    "# plt.xlabel(\"秒\")\n",
    "# plt.ylabel(\"　←非重要語説明　　　　　　重要語説明→\")\n",
    "# plt.title(\"重要語の説明\")\n",
    "# # plt.savefig(\"../data/グラフ類/重要語例.jpg\")\n",
    "# plt.show()"
   ]
  },
  {
   "cell_type": "code",
   "execution_count": 3,
   "metadata": {},
   "outputs": [
    {
     "data": {
      "image/png": "[encoded data removed]",
      "text/plain": [
       "<Figure size 648x360 with 1 Axes>"
      ]
     },
     "metadata": {
      "needs_background": "light"
     },
     "output_type": "display_data"
    }
   ],
   "source": [
    "imfaex = pd.read_csv('../data/重要語顔例.csv')\n",
    "fig = plt.figure(figsize=(9, 5))\n",
    "# plt.plot(imfaex[\"seconds\"], imfaex[\"f_or_s\"])\n",
    "plt.xlabel(\"秒\")\n",
    "plt.ylabel(\" 正面を向く　　　　　　　スライドを向く\")\n",
    "plt.title(\"C4（重要語の説明時にスライド方向へ変化）と重要語の対応\", fontsize=15)\n",
    "plt.tick_params(labelleft=False)\n",
    "\n",
    "plt.hlines(0, 0, 9, color=\"b\")# y, x, x\n",
    "plt.vlines(9, 0, 1, color=\"b\")# x, y, y\n",
    "plt.hlines(1, 9, 15, color=\"b\")# y, x, x\n",
    "plt.vlines(15, 0, 1, color=\"b\")# x, y, y\n",
    "plt.hlines(0, 15, 24, color=\"b\")# y, x, x\n",
    "plt.vlines(24, 0, 1, color=\"b\")# x, y, y\n",
    "plt.hlines(1, 24, 29, color=\"b\")# y, x, x\n",
    "plt.vlines(29, 0, 1, color=\"b\")# x, y, y\n",
    "plt.hlines(0, 29, 40, color=\"b\")# y, x, x\n",
    "plt.vlines(40, 0, 1, color=\"b\")# x, y, y\n",
    "plt.hlines(1, 40, 51, color=\"b\")# y, x, x\n",
    "plt.vlines(51, 0, 1, color=\"b\")# x, y, y\n",
    "plt.hlines(0, 51, 60, color=\"b\")# y, x, x\n",
    "\n",
    "# 重要語\n",
    "plt.hlines(0, 0, 10, color=\"r\")# y, x, x\n",
    "plt.vlines(10, 0, 1, color=\"r\")# x, y, y\n",
    "plt.hlines(1, 10, 14, color=\"r\")# y, x, x\n",
    "plt.vlines(14, 0, 1, color=\"r\")# x, y, y\n",
    "plt.hlines(0, 14, 25, color=\"r\")# y, x, x\n",
    "plt.vlines(25, 0, 1, color=\"r\")# x, y, y\n",
    "plt.hlines(1, 25, 28, color=\"r\")# y, x, x\n",
    "plt.vlines(28, 0, 1, color=\"r\")# x, y, y\n",
    "plt.hlines(0, 28, 41, color=\"r\")# y, x, x\n",
    "plt.vlines(41, 0, 1, color=\"r\")# x, y, y\n",
    "plt.hlines(1, 41, 47, color=\"r\")# y, x, x\n",
    "plt.vlines(47, 0, 1, color=\"r\")# x, y, y\n",
    "plt.hlines(0, 47, 60, color=\"r\")# y, x, x\n",
    "# plt.savefig(\"../data/グラフ類/vsc4.jpg\")\n",
    "plt.show()"
   ]
  },
  {
   "cell_type": "code",
   "execution_count": 23,
   "metadata": {},
   "outputs": [
    {
     "data": {
      "image/png": "[encoded data removed]",
      "text/plain": [
       "<Figure size 648x360 with 1 Axes>"
      ]
     },
     "metadata": {
      "needs_background": "light"
     },
     "output_type": "display_data"
    }
   ],
   "source": [
    "plt.rcParams[\"font.size\"] = 20\n",
    "autoex = pd.read_csv('../data/一定例.csv')\n",
    "imfaex = pd.read_csv('../data/重要語顔例.csv')\n",
    "fig = plt.figure(figsize=(9, 5))\n",
    "plt.plot(autoex[\"seconds\"], autoex[\"f_or_s\"], label=\"(C3)\")\n",
    "plt.plot(imfaex[\"seconds\"], imfaex[\"f_or_s\"], label=\"(C4)\", color=\"g\")\n",
    "# plt.xlabel(\"秒\")\n",
    "# plt.ylabel(\" 正面を向く　　　　　　　スライドを向く\")\n",
    "# plt.title(\"C3とC4と重要語の対応\")\n",
    "plt.tick_params(labelleft=False)\n",
    "# plt.legend()\n",
    "\n",
    "# 重要語\n",
    "plt.hlines(0, 0, 10, color=\"r\")# y, x, x\n",
    "plt.vlines(10, 0, 1, color=\"r\")# x, y, y\n",
    "plt.hlines(1, 10, 14, color=\"r\")# y, x, x\n",
    "plt.vlines(14, 0, 1, color=\"r\")# x, y, y\n",
    "plt.hlines(0, 14, 25, color=\"r\")# y, x, x\n",
    "plt.vlines(25, 0, 1, color=\"r\")# x, y, y\n",
    "plt.hlines(1, 25, 28, color=\"r\")# y, x, x\n",
    "plt.vlines(28, 0, 1, color=\"r\")# x, y, y\n",
    "plt.hlines(0, 28, 41, color=\"r\")# y, x, x\n",
    "plt.vlines(41, 0, 1, color=\"r\")# x, y, y\n",
    "plt.hlines(1, 41, 47, color=\"r\")# y, x, x\n",
    "plt.vlines(47, 0, 1, color=\"r\")# x, y, y\n",
    "plt.hlines(0, 47, 60, color=\"r\")# y, x, x\n",
    "plt.savefig(\"../data/グラフ類/vsc3c4.jpg\")\n",
    "plt.show()"
   ]
  },
  {
   "cell_type": "markdown",
   "metadata": {},
   "source": [
    "## 説明用グラフの作成（ここまで）"
   ]
  },
  {
   "cell_type": "code",
   "execution_count": null,
   "metadata": {},
   "outputs": [],
   "source": [
    "# 全体の箱ひげ図\n",
    "# plt.boxplot([df[\"ty_poi\"], df[\"au_poi\"], df[\"ci_poi\"]], labels=[\"ty\", \"au\", \"ci\"])\n",
    "# plt.show()"
   ]
  },
  {
   "cell_type": "code",
   "execution_count": null,
   "metadata": {},
   "outputs": [],
   "source": [
    "df[\"test\"] = df[\"ty_num\"]\n",
    "df"
   ]
  },
  {
   "cell_type": "code",
   "execution_count": 21,
   "metadata": {},
   "outputs": [
    {
     "data": {
      "image/png": "[encoded data removed]",
      "text/plain": [
       "<Figure size 432x288 with 1 Axes>"
      ]
     },
     "metadata": {
      "needs_background": "light"
     },
     "output_type": "display_data"
    },
    {
     "data": {
      "image/png": "[encoded data removed]",
      "text/plain": [
       "<Figure size 432x288 with 1 Axes>"
      ]
     },
     "metadata": {
      "needs_background": "light"
     },
     "output_type": "display_data"
    },
    {
     "data": {
      "image/png": "[encoded data removed]",
      "text/plain": [
       "<Figure size 432x288 with 1 Axes>"
      ]
     },
     "metadata": {
      "needs_background": "light"
     },
     "output_type": "display_data"
    }
   ],
   "source": [
    "# 点数\n",
    "# fig = plt.figure(figsize=(16, 9))\n",
    "for i in range(3):\n",
    "    if i == 0:\n",
    "        plt.boxplot([df_1[\"ty_poi\"], df_2[\"ty_poi\"], df_3[\"ty_poi\"], df_4[\"ty_poi\"]], labels=[\"(C1)\", \"(C2)\", \"(C3)\", \"(C4)\"])\n",
    "        plt.plot(df[\"ty_num\"], df[\"ty_poi\"], \".\")\n",
    "        plt.title(\"台風と集中豪雨\")\n",
    "        plt.xlabel(\"講師の顔の動き\")\n",
    "        plt.ylabel(\"点数\")\n",
    "        plt.ylim(0, 11)\n",
    "#         plt.savefig(\"../data/グラフ類/p_ty.pdf\")\n",
    "        plt.show()\n",
    "\n",
    "# top right\n",
    "    if i == 1:\n",
    "        plt.boxplot([df_4[\"au_poi\"], df_1[\"au_poi\"], df_2[\"au_poi\"], df_3[\"au_poi\"]], labels=[\"(C1)\", \"(C2)\", \"(C3)\", \"(C4)\"])\n",
    "        plt.plot(df[\"au_num_ty\"], df[\"au_poi\"], \".\")\n",
    "        plt.title(\"オーストラリアの歴史\")\n",
    "        plt.xlabel(\"講師の顔の動き\")\n",
    "        plt.ylabel(\"点数\")\n",
    "        plt.ylim(0, 11)\n",
    "#         plt.savefig(\"../data/グラフ類/p_au.pdf\")\n",
    "        plt.show()\n",
    "        \n",
    "# bottom left\n",
    "    if i == 2:\n",
    "#         ax3 = fig.add_subplot(2, 2, 3)\n",
    "        plt.boxplot([df_3[\"ci_poi\"], df_4[\"ci_poi\"], df_1[\"ci_poi\"], df_2[\"ci_poi\"]], labels=[\"(C1)\", \"(C2)\", \"(C3)\", \"(C4)\"])\n",
    "        plt.plot(df[\"ci_num_ty\"], df[\"ci_poi\"], \".\")\n",
    "        plt.title(\"都市工学\")\n",
    "        plt.xlabel(\"講師の顔の動き\")\n",
    "        plt.ylabel(\"点数\")\n",
    "        plt.ylim(0, 11)\n",
    "#         plt.savefig(\"../data/グラフ類/p_ci.pdf\")\n",
    "        plt.show()\n",
    "\n",
    "# show plots\n",
    "# plt.savefig('../data/グラフ類/scr_boxplot.jpg')\n",
    "# fig.tight_layout()\n",
    "# fig.show()"
   ]
  },
  {
   "cell_type": "code",
   "execution_count": 29,
   "metadata": {},
   "outputs": [
    {
     "data": {
      "image/png": "[encoded data removed]",
      "text/plain": [
       "<Figure size 432x288 with 1 Axes>"
      ]
     },
     "metadata": {
      "needs_background": "light"
     },
     "output_type": "display_data"
    },
    {
     "data": {
      "image/png": "[encoded data removed]",
      "text/plain": [
       "<Figure size 432x288 with 1 Axes>"
      ]
     },
     "metadata": {
      "needs_background": "light"
     },
     "output_type": "display_data"
    },
    {
     "data": {
      "image/png": "[encoded data removed]",
      "text/plain": [
       "<Figure size 432x288 with 1 Axes>"
      ]
     },
     "metadata": {
      "needs_background": "light"
     },
     "output_type": "display_data"
    }
   ],
   "source": [
    "# 注視割合\n",
    "# fig = plt.figure(figsize=(16, 9))\n",
    "# top left\n",
    "for i in range(3):\n",
    "    if i == 0:\n",
    "#         ax1 = fig.add_subplot(2, 2, 1)\n",
    "        plt.boxplot([df_1[\"ty_look\"], df_2[\"ty_look\"], df_3[\"ty_look\"], df_4[\"ty_look\"]], labels=[\"(C1)\", \"(C2)\", \"(C3)\", \"(C4)\"])\n",
    "        plt.plot(df[\"ty_num\"], df[\"ty_look\"], \".\")\n",
    "        plt.title(\"台風と集中豪雨\")\n",
    "        plt.xlabel(\"講師の顔の動き\")\n",
    "        plt.ylabel(\"％\")\n",
    "        plt.ylim(-1, 16)\n",
    "        plt.savefig(\"../data/グラフ類/l_ty.pdf\")\n",
    "        plt.show()\n",
    "\n",
    "# top right\n",
    "    if i == 1:\n",
    "# ax2 = fig.add_subplot(2, 2, 2)\n",
    "        plt.boxplot([df_4[\"au_look\"], df_1[\"au_look\"], df_2[\"au_look\"], df_3[\"au_look\"]], labels=[\"(C1)\", \"(C2)\", \"(C3)\", \"(C4)\"])\n",
    "        plt.plot(df[\"au_num_ty\"], df[\"au_look\"], \".\")\n",
    "        plt.title(\"オーストラリアの歴史\")\n",
    "        plt.xlabel(\"講師の顔の動き\")\n",
    "        plt.ylabel(\"％\")\n",
    "        plt.ylim(-1, 16)\n",
    "        plt.savefig(\"../data/グラフ類/l_au.pdf\")\n",
    "        plt.show()\n",
    "    \n",
    "# bottom left\n",
    "    if i == 2:\n",
    "# ax3 = fig.add_subplot(2, 2, 3)\n",
    "        plt.boxplot([df_3[\"ci_look\"], df_4[\"ci_look\"], df_1[\"ci_look\"], df_2[\"ci_look\"]], labels=[\"(C1)\", \"(C2)\", \"(C3)\", \"(C4)\"])\n",
    "        plt.plot(df[\"ci_num_ty\"], df[\"ci_look\"], \".\")\n",
    "        plt.title(\"都市工学\")\n",
    "        plt.xlabel(\"講師の顔の動き\")\n",
    "        plt.ylabel(\"％\")\n",
    "        plt.ylim(-1, 16)\n",
    "        plt.savefig(\"../data/グラフ類/l_ci.pdf\")\n",
    "        plt.show()\n",
    "    \n",
    "# show plots\n",
    "# plt.savefig('../data/グラフ類/look_boxplot.jpg')\n",
    "# fig.tight_layout()\n",
    "# fig.show()"
   ]
  },
  {
   "cell_type": "code",
   "execution_count": 115,
   "metadata": {},
   "outputs": [
    {
     "data": {
      "image/png": "[encoded data removed]",
      "text/plain": [
       "<Figure size 432x288 with 1 Axes>"
      ]
     },
     "metadata": {
      "needs_background": "light"
     },
     "output_type": "display_data"
    },
    {
     "data": {
      "image/png": "[encoded data removed]",
      "text/plain": [
       "<Figure size 432x288 with 1 Axes>"
      ]
     },
     "metadata": {
      "needs_background": "light"
     },
     "output_type": "display_data"
    },
    {
     "data": {
      "image/png": "[encoded data removed]",
      "text/plain": [
       "<Figure size 432x288 with 1 Axes>"
      ]
     },
     "metadata": {
      "needs_background": "light"
     },
     "output_type": "display_data"
    },
    {
     "name": "stderr",
     "output_type": "stream",
     "text": [
      "<ipython-input-115-63da91935781>:57: UserWarning: Matplotlib is currently using module://ipykernel.pylab.backend_inline, which is a non-GUI backend, so cannot show the figure.\n",
      "  fig.show()\n"
     ]
    }
   ],
   "source": [
    "# 視線移動\n",
    "\n",
    "df11m = df_m[\"ty_m\"][df_m[\"num\"]==1]\n",
    "df22m = df_m[\"au_m\"][df_m[\"num\"]==1]\n",
    "df33m = df_m[\"ci_m\"][df_m[\"num\"]==1]\n",
    "df12m = df_m[\"ty_m\"][df_m[\"num\"]==2]\n",
    "df23m = df_m[\"au_m\"][df_m[\"num\"]==2]\n",
    "df34m = df_m[\"ci_m\"][df_m[\"num\"]==2]\n",
    "df13m = df_m[\"ty_m\"][df_m[\"num\"]==3]\n",
    "df24m = df_m[\"au_m\"][df_m[\"num\"]==3]\n",
    "df31m = df_m[\"ci_m\"][df_m[\"num\"]==3]\n",
    "df14m = df_m[\"ty_m\"][df_m[\"num\"]==4]\n",
    "df21m = df_m[\"au_m\"][df_m[\"num\"]==4]\n",
    "df32m = df_m[\"ci_m\"][df_m[\"num\"]==4]\n",
    "\n",
    "# fig = plt.figure(figsize=(16, 9))\n",
    "# top left\n",
    "# ax1 = fig.add_subplot(2, 2, 1)\n",
    "for i in range(3):\n",
    "    if i == 0:\n",
    "        plt.boxplot([df_m[\"ty_m\"][df_m[\"num\"]==1], df_m[\"ty_m\"][df_m[\"num\"]==2], df_m[\"ty_m\"][df_m[\"num\"]==3], df_m[\"ty_m\"][df_m[\"num\"]==4]], labels=[\"(C1)\", \"(C2)\", \"(C3)\", \"(C4)\"])\n",
    "        plt.plot(df[\"ty_num\"], df_m[\"ty_m\"], \".\")\n",
    "        plt.title(\"台風と集中豪雨\")\n",
    "        plt.xlabel(\"講師の顔の動き\")\n",
    "        plt.ylabel(\"回\")\n",
    "        plt.ylim(-1, 95)\n",
    "#         plt.savefig(\"../data/グラフ類/m_ty.pdf\")\n",
    "        plt.show()\n",
    "        \n",
    "# top right\n",
    "# ax2 = fig.add_subplot(2, 2, 2)\n",
    "    if i == 1:\n",
    "        plt.boxplot([df_m[\"au_m\"][df_m[\"num\"]==4], df_m[\"au_m\"][df_m[\"num\"]==1], df_m[\"au_m\"][df_m[\"num\"]==2], df_m[\"au_m\"][df_m[\"num\"]==3]], labels=[\"(C1)\", \"(C2)\", \"(C3)\", \"(C4)\"])\n",
    "        plt.plot(df[\"au_num_ty\"], df_m[\"au_m\"], \".\")\n",
    "        plt.title(\"オーストラリアの歴史\")\n",
    "        plt.xlabel(\"講師の顔の動き\")\n",
    "        plt.ylabel(\"回\")\n",
    "        plt.ylim(-1, 95)\n",
    "#         plt.savefig(\"../data/グラフ類/m_au.pdf\")\n",
    "        plt.show()\n",
    "\n",
    "# bottom left\n",
    "# ax3 = fig.add_subplot(2, 2, 3)\n",
    "    if i == 2:\n",
    "        plt.boxplot([df_m[\"ci_m\"][df_m[\"num\"]==3], df_m[\"ci_m\"][df_m[\"num\"]==4], df_m[\"ci_m\"][df_m[\"num\"]==1], df_m[\"ci_m\"][df_m[\"num\"]==2]], labels=[\"(C1)\", \"(C2)\", \"(C3)\", \"(C4)\"])\n",
    "        plt.plot(df[\"ci_num_ty\"], df_m[\"ci_m\"], \".\")\n",
    "        plt.title(\"都市工学\")\n",
    "        plt.xlabel(\"講師の顔の動き\")\n",
    "        plt.ylabel(\"回\")\n",
    "        plt.ylim(-1, 95)\n",
    "        plt.savefig(\"../data/グラフ類/m_ci.pdf\")\n",
    "        plt.show()\n",
    "        \n",
    "# show plots\n",
    "# plt.savefig('../data/グラフ類/move_boxplot.jpg')\n",
    "fig.tight_layout()\n",
    "fig.show()"
   ]
  },
  {
   "cell_type": "code",
   "execution_count": 117,
   "metadata": {},
   "outputs": [
    {
     "data": {
      "image/png": "[encoded data removed]",
      "text/plain": [
       "<Figure size 432x288 with 1 Axes>"
      ]
     },
     "metadata": {
      "needs_background": "light"
     },
     "output_type": "display_data"
    },
    {
     "data": {
      "image/png": "[encoded data removed]",
      "text/plain": [
       "<Figure size 432x288 with 1 Axes>"
      ]
     },
     "metadata": {
      "needs_background": "light"
     },
     "output_type": "display_data"
    },
    {
     "data": {
      "image/png": "[encoded data removed]",
      "text/plain": [
       "<Figure size 432x288 with 1 Axes>"
      ]
     },
     "metadata": {
      "needs_background": "light"
     },
     "output_type": "display_data"
    }
   ],
   "source": [
    "# 重要語\n",
    "# fig = plt.figure(figsize=(16, 9))\n",
    "# top left\n",
    "# ax1 = fig.add_subplot(2, 2, 1)\n",
    "for i in range(3):\n",
    "    if i == 0:\n",
    "        plt.boxplot([df_im[\"ty_ch\"][df_im[\"num\"]==1], df_im[\"ty_ch\"][df_im[\"num\"]==2], df_im[\"ty_ch\"][df_im[\"num\"]==3], df_im[\"ty_ch\"][df_im[\"num\"]==4]], labels=[\"(C1)\", \"(C2)\", \"(C3)\", \"(C4)\"])\n",
    "        plt.plot(df[\"ty_num\"], df_im[\"ty_ch\"], \".\")\n",
    "        plt.title(\"台風と集中豪雨\")\n",
    "        plt.xlabel(\"講師の顔の動き\")\n",
    "        plt.ylabel(\"確認数\")\n",
    "        plt.ylim(5, 13.8)\n",
    "#         plt.savefig(\"../data/グラフ類/im_ty.pdf\")\n",
    "        plt.show()\n",
    "\n",
    "# top right\n",
    "# ax2 = fig.add_subplot(2, 2, 2)\n",
    "    if i == 1:\n",
    "        plt.boxplot([df_im[\"au_ch\"][df_im[\"num\"]==4], df_im[\"au_ch\"][df_im[\"num\"]==1], df_im[\"au_ch\"][df_im[\"num\"]==2], df_im[\"au_ch\"][df_im[\"num\"]==3]], labels=[\"(C1)\", \"(C2)\", \"(C3)\", \"(C4)\"])\n",
    "        plt.plot(df[\"au_num_ty\"], df_im[\"au_ch\"], \".\")\n",
    "        plt.title(\"オーストラリアの歴史\")\n",
    "        plt.xlabel(\"講師の顔の動き\")\n",
    "        plt.ylabel(\"確認数\")\n",
    "        plt.ylim(5, 13.8)\n",
    "        plt.savefig(\"../data/グラフ類/im_au.pdf\")\n",
    "        plt.show()\n",
    "\n",
    "# bottom left\n",
    "# ax3 = fig.add_subplot(2, 2, 3)\n",
    "    if i == 2:\n",
    "        plt.boxplot([df_im[\"ci_ch\"][df_im[\"num\"]==3], df_im[\"ci_ch\"][df_im[\"num\"]==4], df_im[\"ci_ch\"][df_im[\"num\"]==1], df_im[\"ci_ch\"][df_im[\"num\"]==2]], labels=[\"(C1)\", \"(C2)\", \"(C3)\", \"(C4)\"])\n",
    "        plt.plot(df[\"ci_num_ty\"], df_im[\"ci_ch\"], \".\")\n",
    "        plt.title(\"都市工学\")\n",
    "        plt.xlabel(\"講師の顔の動き\")\n",
    "        plt.ylabel(\"確認数\")\n",
    "        plt.ylim(5, 13.8)\n",
    "#         plt.savefig(\"../data/グラフ類/im_ci.pdf\")\n",
    "        plt.show()\n",
    "\n",
    "# show plots\n",
    "# plt.savefig('../data/グラフ類/im_boxplot.jpg')\n",
    "# fig.tight_layout()\n",
    "# fig.show()"
   ]
  },
  {
   "cell_type": "code",
   "execution_count": 23,
   "metadata": {},
   "outputs": [
    {
     "data": {
      "image/png": "[encoded data removed]",
      "text/plain": [
       "<Figure size 432x288 with 1 Axes>"
      ]
     },
     "metadata": {
      "needs_background": "light"
     },
     "output_type": "display_data"
    }
   ],
   "source": [
    "# 台風の箱ひげ図\n",
    "# plt.boxplot([df_1[\"ty_poi\"], df_2[\"ty_poi\"], df_3[\"ty_poi\"], df_4[\"ty_poi\"]], labels=[\"正面のみ\", \"スライドのみ\", \"定期動作\", \"重要語\"])\n",
    "plt.boxplot([df_1[\"ty_look\"], df_2[\"ty_look\"], df_3[\"ty_look\"], df_4[\"ty_look\"]], labels=[\"正面のみ\", \"スライドのみ\", \"定期動作\", \"重要語\"])\n",
    "# plt.boxplot([df_m[\"ty_m\"][df_m[\"num\"]==1], df_m[\"ty_m\"][df_m[\"num\"]==2], df_m[\"ty_m\"][df_m[\"num\"]==3], df_m[\"ty_m\"][df_m[\"num\"]==4]], labels=[\"正面のみ\", \"スライドのみ\", \"定期動作\", \"重要語\"])\n",
    "# for i in range(4):\n",
    "# plt.plot(df_m[\"num\"], df_m[\"ty_m\"], \".\")\n",
    "#     plt.plot([df_m[\"ty_m\"][df_m[\"num\"]==1], df_m[\"ty_m\"][df_m[\"num\"]==2], df_m[\"ty_m\"][df_m[\"num\"]==3], df_m[\"ty_m\"][df_m[\"num\"]==4]], \".\")\n",
    "\n",
    "plt.xlabel(\"講師の顔の動き\")\n",
    "plt.ylabel(\"点数\")\n",
    "plt.title(\"台風と集中豪雨\")\n",
    "plt.show()"
   ]
  },
  {
   "cell_type": "code",
   "execution_count": 24,
   "metadata": {},
   "outputs": [
    {
     "data": {
      "image/png": "[encoded data removed]",
      "text/plain": [
       "<Figure size 432x288 with 1 Axes>"
      ]
     },
     "metadata": {
      "needs_background": "light"
     },
     "output_type": "display_data"
    }
   ],
   "source": [
    "# オーストラリアの箱ひげ図\n",
    "# plt.boxplot([df_4[\"au_poi\"], df_1[\"au_poi\"], df_2[\"au_poi\"], df_3[\"au_poi\"]], labels=[\"正面のみ\", \"スライドのみ\", \"定期動作\", \"重要語\"])\n",
    "plt.boxplot([df_4[\"au_look\"], df_1[\"au_look\"], df_2[\"au_look\"], df_3[\"au_look\"]], labels=[\"正面のみ\", \"スライドのみ\", \"定期動作\", \"重要語\"])\n",
    "# plt.boxplot([df_m[\"au_m\"][df_m[\"num\"]==4], df_m[\"au_m\"][df_m[\"num\"]==1], df_m[\"au_m\"][df_m[\"num\"]==2], df_m[\"au_m\"][df_m[\"num\"]==3]], labels=[\"正面のみ\", \"スライドのみ\", \"定期動作\", \"重要語\"])\n",
    "plt.title(\"オーストラリアの歴史\")\n",
    "plt.xlabel(\"講師の顔の動き\")\n",
    "plt.ylabel(\"点数\")\n",
    "plt.show()"
   ]
  },
  {
   "cell_type": "code",
   "execution_count": 72,
   "metadata": {},
   "outputs": [
    {
     "data": {
      "image/png": "[encoded data removed]",
      "text/plain": [
       "<Figure size 432x288 with 1 Axes>"
      ]
     },
     "metadata": {
      "needs_background": "light"
     },
     "output_type": "display_data"
    }
   ],
   "source": [
    "# 都市工学の箱ひげ図\n",
    "plt.boxplot([df_1[\"ci_poi\"], df_2[\"ci_poi\"], df_3[\"ci_poi\"], df_4[\"ci_poi\"]], labels=[\"正面のみ\", \"スライドのみ\", \"定期動作\", \"重要語\"])\n",
    "plt.boxplot([df_3[\"ci_look\"], df_4[\"ci_look\"], df_1[\"ci_look\"], df_2[\"ci_look\"]], labels=[\"正面のみ\", \"スライドのみ\", \"定期動作\", \"重要語\"])\n",
    "plt.boxplot([df_m[\"ci_m\"][df_m[\"num\"]==3], df_m[\"ci_m\"][df_m[\"num\"]==4], df_m[\"ci_m\"][df_m[\"num\"]==1], df_m[\"ci_m\"][df_m[\"num\"]==2]], labels=[\"正面のみ\", \"スライドのみ\", \"定期動作\", \"重要語\"])\n",
    "plt.title(\"都市工学\")\n",
    "plt.xlabel(\"講師の顔の動き\")\n",
    "plt.ylabel(\"点数\")\n",
    "plt.show()"
   ]
  },
  {
   "cell_type": "markdown",
   "metadata": {},
   "source": [
    "## 科目混ぜ条件別（不使用）"
   ]
  },
  {
   "cell_type": "code",
   "execution_count": 5,
   "metadata": {},
   "outputs": [
    {
     "data": {
      "text/html": [
       "<div>\n",
       "<style scoped>\n",
       "    .dataframe tbody tr th:only-of-type {\n",
       "        vertical-align: middle;\n",
       "    }\n",
       "\n",
       "    .dataframe tbody tr th {\n",
       "        vertical-align: top;\n",
       "    }\n",
       "\n",
       "    .dataframe thead th {\n",
       "        text-align: right;\n",
       "    }\n",
       "</style>\n",
       "<table border=\"1\" class=\"dataframe\">\n",
       "  <thead>\n",
       "    <tr style=\"text-align: right;\">\n",
       "      <th></th>\n",
       "      <th>4poi</th>\n",
       "      <th>4look</th>\n",
       "      <th>4move</th>\n",
       "    </tr>\n",
       "  </thead>\n",
       "  <tbody>\n",
       "    <tr>\n",
       "      <th>0</th>\n",
       "      <td>4.0</td>\n",
       "      <td>6.47</td>\n",
       "      <td>36.0</td>\n",
       "    </tr>\n",
       "    <tr>\n",
       "      <th>1</th>\n",
       "      <td>1.0</td>\n",
       "      <td>13.33</td>\n",
       "      <td>48.0</td>\n",
       "    </tr>\n",
       "    <tr>\n",
       "      <th>2</th>\n",
       "      <td>5.0</td>\n",
       "      <td>1.22</td>\n",
       "      <td>10.0</td>\n",
       "    </tr>\n",
       "    <tr>\n",
       "      <th>3</th>\n",
       "      <td>5.0</td>\n",
       "      <td>5.11</td>\n",
       "      <td>22.0</td>\n",
       "    </tr>\n",
       "    <tr>\n",
       "      <th>4</th>\n",
       "      <td>5.0</td>\n",
       "      <td>0.73</td>\n",
       "      <td>10.0</td>\n",
       "    </tr>\n",
       "    <tr>\n",
       "      <th>5</th>\n",
       "      <td>3.0</td>\n",
       "      <td>8.49</td>\n",
       "      <td>13.0</td>\n",
       "    </tr>\n",
       "    <tr>\n",
       "      <th>6</th>\n",
       "      <td>6.0</td>\n",
       "      <td>0.76</td>\n",
       "      <td>11.0</td>\n",
       "    </tr>\n",
       "    <tr>\n",
       "      <th>7</th>\n",
       "      <td>3.0</td>\n",
       "      <td>6.55</td>\n",
       "      <td>18.0</td>\n",
       "    </tr>\n",
       "    <tr>\n",
       "      <th>8</th>\n",
       "      <td>6.0</td>\n",
       "      <td>3.07</td>\n",
       "      <td>25.0</td>\n",
       "    </tr>\n",
       "    <tr>\n",
       "      <th>9</th>\n",
       "      <td>6.0</td>\n",
       "      <td>12.88</td>\n",
       "      <td>57.0</td>\n",
       "    </tr>\n",
       "    <tr>\n",
       "      <th>10</th>\n",
       "      <td>5.0</td>\n",
       "      <td>1.90</td>\n",
       "      <td>15.0</td>\n",
       "    </tr>\n",
       "    <tr>\n",
       "      <th>11</th>\n",
       "      <td>9.0</td>\n",
       "      <td>1.00</td>\n",
       "      <td>7.0</td>\n",
       "    </tr>\n",
       "    <tr>\n",
       "      <th>12</th>\n",
       "      <td>10.0</td>\n",
       "      <td>7.92</td>\n",
       "      <td>19.0</td>\n",
       "    </tr>\n",
       "    <tr>\n",
       "      <th>13</th>\n",
       "      <td>4.0</td>\n",
       "      <td>3.54</td>\n",
       "      <td>32.0</td>\n",
       "    </tr>\n",
       "    <tr>\n",
       "      <th>14</th>\n",
       "      <td>8.0</td>\n",
       "      <td>7.97</td>\n",
       "      <td>49.0</td>\n",
       "    </tr>\n",
       "    <tr>\n",
       "      <th>15</th>\n",
       "      <td>6.0</td>\n",
       "      <td>5.23</td>\n",
       "      <td>35.0</td>\n",
       "    </tr>\n",
       "  </tbody>\n",
       "</table>\n",
       "</div>"
      ],
      "text/plain": [
       "    4poi  4look  4move\n",
       "0    4.0   6.47   36.0\n",
       "1    1.0  13.33   48.0\n",
       "2    5.0   1.22   10.0\n",
       "3    5.0   5.11   22.0\n",
       "4    5.0   0.73   10.0\n",
       "5    3.0   8.49   13.0\n",
       "6    6.0   0.76   11.0\n",
       "7    3.0   6.55   18.0\n",
       "8    6.0   3.07   25.0\n",
       "9    6.0  12.88   57.0\n",
       "10   5.0   1.90   15.0\n",
       "11   9.0   1.00    7.0\n",
       "12  10.0   7.92   19.0\n",
       "13   4.0   3.54   32.0\n",
       "14   8.0   7.97   49.0\n",
       "15   6.0   5.23   35.0"
      ]
     },
     "execution_count": 5,
     "metadata": {},
     "output_type": "execute_result"
    }
   ],
   "source": [
    "df1 = pd.concat([df_1_1, df_4_1, df_3_1]).reset_index(drop=True)\n",
    "df2 = pd.concat([df_2_2, df_1_2, df_4_2]).reset_index(drop=True)\n",
    "df3 = pd.concat([df_3_3, df_2_3, df_1_3]).reset_index(drop=True)\n",
    "df4 = pd.concat([df_4_4, df_3_4, df_2_4]).reset_index(drop=True)\n",
    "df4"
   ]
  },
  {
   "cell_type": "markdown",
   "metadata": {},
   "source": [
    "### 点数"
   ]
  },
  {
   "cell_type": "code",
   "execution_count": 6,
   "metadata": {},
   "outputs": [],
   "source": [
    "# dfpa = pd.concat([df1[\"1poi\"], df2[\"2poi\"], df3[\"3poi\"], df4[\"4poi\"]], axis=1)\n",
    "# dfpa = dfpa.fillna(dfpa.median(numeric_only=True))\n",
    "# dfpa = (dfpa - dfpa.values.min()) / (dfpa.values.max() - dfpa.values.min())\n",
    "\n",
    "df1p = df1[\"1poi\"]\n",
    "df1p.loc[\"17\"] = 10\n",
    "df1p.loc[\"18\"] = 0\n",
    "# print(df1p)\n",
    "df1p = (df1p - df1p.values.min()) / (df1p.values.max() - df1p.values.min())\n",
    "df1p = df1p.drop([\"17\", \"18\"])\n",
    "\n",
    "df2p = df2[\"2poi\"]\n",
    "df2p.loc[\"17\"] = 10\n",
    "df2p.loc[\"18\"] = 0\n",
    "df2p = (df2p - df2p.values.min()) / (df2p.values.max() - df2p.values.min())\n",
    "df2p = df2p.drop([\"17\", \"18\"])\n",
    "\n",
    "df3p = df3[\"3poi\"]\n",
    "# df1p.loc[\"16\"] = df3p.median()\n",
    "df3p.loc[\"17\"] = 10\n",
    "df3p.loc[\"18\"] = 0\n",
    "df3p = (df3p - df3p.values.min()) / (df3p.values.max() - df3p.values.min())\n",
    "df3p = df3p.drop([\"17\", \"18\"])\n",
    "\n",
    "df4p = df4[\"4poi\"]\n",
    "# df1p.loc[\"16\"] = df4p.median()\n",
    "df4p.loc[\"17\"] = 10\n",
    "df4p.loc[\"18\"] = 0\n",
    "df4p = (df4p - df4p.values.min()) / (df4p.values.max() - df4p.values.min())\n",
    "df4p = df4p.drop([\"17\", \"18\"])\n",
    "\n",
    "# print(type(df3p))\n",
    "# dfpp = pd.concat([\"df1p\", \"df2p\", \"df3p\", \"df4p\"], axis=1)\n",
    "# dfpa\n",
    "# dfpa.to_csv(\"point_all_all.csv\")\n",
    "# dfpp.to_csv(\"point_all_each.csv\")"
   ]
  },
  {
   "cell_type": "code",
   "execution_count": 7,
   "metadata": {},
   "outputs": [
    {
     "data": {
      "text/plain": [
       "0     2.0\n",
       "1     3.0\n",
       "2     5.0\n",
       "3     5.0\n",
       "4     4.0\n",
       "5     3.0\n",
       "6     5.0\n",
       "7     3.0\n",
       "8     5.0\n",
       "9     4.0\n",
       "10    6.0\n",
       "11    4.0\n",
       "12    9.0\n",
       "13    7.0\n",
       "14    8.0\n",
       "15    8.0\n",
       "16    7.0\n",
       "Name: 1poi, dtype: float64"
      ]
     },
     "execution_count": 7,
     "metadata": {},
     "output_type": "execute_result"
    }
   ],
   "source": [
    "df1p"
   ]
  },
  {
   "cell_type": "code",
   "execution_count": 7,
   "metadata": {},
   "outputs": [
    {
     "name": "stdout",
     "output_type": "stream",
     "text": [
      "シャピロ・ウィルク検定\n",
      "標本A p値 = 0.396\n",
      "標本B p値 = 0.011\n",
      "標本C p値 = 0.003\n",
      "標本D p値 = 0.591\n"
     ]
    }
   ],
   "source": [
    "# 正規性（p>0.05）\n",
    "_, pa = stats.shapiro(df1p)\n",
    "_, pb = stats.shapiro(df2p)\n",
    "_, pc = stats.shapiro(df3p)\n",
    "_, pd = stats.shapiro(df4p)\n",
    "\n",
    "# _, pa = stats.shapiro(dfpa[\"1poi\"])\n",
    "# _, pb = stats.shapiro(dfpa[\"2poi\"])\n",
    "# _, pc = stats.shapiro(dfpa[\"3poi\"])\n",
    "# _, pd = stats.shapiro(dfpa[\"4poi\"])\n",
    "\n",
    "print('シャピロ・ウィルク検定')\n",
    "print(f'標本A p値 = {pa:.3f}')\n",
    "print(f'標本B p値 = {pb:.3f}')\n",
    "print(f'標本C p値 = {pc:.3f}')\n",
    "print(f'標本D p値 = {pd:.3f}')"
   ]
  },
  {
   "cell_type": "code",
   "execution_count": 8,
   "metadata": {},
   "outputs": [
    {
     "name": "stdout",
     "output_type": "stream",
     "text": [
      "ルビーン検定\n",
      "p値 = 0.124\n",
      "p値 = 0.665\n",
      "p値 = 0.945\n",
      "p値 = 0.299\n",
      "p値 = 0.185\n",
      "p値 = 0.664\n"
     ]
    }
   ],
   "source": [
    "# 等分散性（p>0.05）\n",
    "_, p1 = stats.levene(df1p,df2p,center='mean')\n",
    "_, p2 = stats.levene(df1p,df3p,center='mean')\n",
    "_, p3 = stats.levene(df1p,df4p,center='mean')\n",
    "_, p4 = stats.levene(df2p,df3p,center='mean')\n",
    "_, p5 = stats.levene(df2p,df4p,center='mean')\n",
    "_, p6 = stats.levene(df3p,df4p,center='mean')\n",
    "\n",
    "# _, p1 = stats.levene(dfpa[\"1poi\"],dfpa[\"2poi\"],center='mean')\n",
    "# _, p2 = stats.levene(dfpa[\"1poi\"],dfpa[\"3poi\"],center='mean')\n",
    "# _, p3 = stats.levene(dfpa[\"1poi\"],dfpa[\"4poi\"],center='mean')\n",
    "# _, p4 = stats.levene(dfpa[\"2poi\"],dfpa[\"3poi\"],center='mean')\n",
    "# _, p5 = stats.levene(dfpa[\"2poi\"],dfpa[\"4poi\"],center='mean')\n",
    "# _, p6 = stats.levene(dfpa[\"3poi\"],dfpa[\"4poi\"],center='mean')\n",
    "\n",
    "print('ルビーン検定')\n",
    "print(f'p値 = {p1:.3f}')\n",
    "print(f'p値 = {p2:.3f}')\n",
    "print(f'p値 = {p3:.3f}')\n",
    "print(f'p値 = {p4:.3f}')\n",
    "print(f'p値 = {p5:.3f}')\n",
    "print(f'p値 = {p6:.3f}')"
   ]
  },
  {
   "cell_type": "code",
   "execution_count": 9,
   "metadata": {},
   "outputs": [
    {
     "name": "stdout",
     "output_type": "stream",
     "text": [
      "-0.169, 0.867\n"
     ]
    }
   ],
   "source": [
    "t, p = stats.ttest_ind(df3p, df4p, equal_var=False)\n",
    "# t, p = stats.ttest_ind(dfpa[\"2poi\"], dfpa[\"3poi\"], equal_var=False)\n",
    "print(f\"{t:.3f}, {p:.3f}\")"
   ]
  },
  {
   "cell_type": "markdown",
   "metadata": {},
   "source": [
    "### 注視"
   ]
  },
  {
   "cell_type": "code",
   "execution_count": 14,
   "metadata": {},
   "outputs": [],
   "source": [
    "# df1l = pd.concat([df1[\"1look\"], df2[\"2look\"], df3[\"3look\"], df4[\"4look\"]], axis=1)\n",
    "# df1l = df1l.fillna(df1l.median(numeric_only=True))\n",
    "df1l = df1[\"1look\"]\n",
    "# df1l = (df1l - df1l.values.min()) / (df1l.values.max() - df1l.values.min())\n",
    "df2l = df2[\"2look\"]\n",
    "# df2l = (df2l - df2l.values.min()) / (df2l.values.max() - df2l.values.min())\n",
    "df3l = df3[\"3look\"]\n",
    "# df3l = (df3l - df3l.values.min()) / (df3l.values.max() - df3l.values.min())\n",
    "df4l = df4[\"4look\"]\n",
    "# df4l = (df4l - df4l.values.min()) / (df4l.values.max() - df4l.values.min())\n",
    "# df1l"
   ]
  },
  {
   "cell_type": "code",
   "execution_count": 24,
   "metadata": {},
   "outputs": [
    {
     "name": "stdout",
     "output_type": "stream",
     "text": [
      "シャピロ・ウィルク検定\n",
      "標本A p値 = 0.056\n",
      "標本B p値 = 0.000\n",
      "標本C p値 = 0.029\n",
      "標本D p値 = 0.128\n"
     ]
    }
   ],
   "source": [
    "# _, pa = stats.shapiro(df1l)\n",
    "# _, pb = stats.shapiro(df2l)\n",
    "# _, pc = stats.shapiro(df3l)\n",
    "# _, pd = stats.shapiro(df4l)\n",
    "\n",
    "_, pa = stats.shapiro(df1l[\"1look\"])\n",
    "_, pb = stats.shapiro(df1l[\"2look\"])\n",
    "_, pc = stats.shapiro(df1l[\"3look\"])\n",
    "_, pd = stats.shapiro(df1l[\"4look\"])\n",
    "\n",
    "print('シャピロ・ウィルク検定')\n",
    "print(f'標本A p値 = {pa:.3f}')\n",
    "print(f'標本B p値 = {pb:.3f}')\n",
    "print(f'標本C p値 = {pc:.3f}')\n",
    "print(f'標本D p値 = {pd:.3f}')"
   ]
  },
  {
   "cell_type": "code",
   "execution_count": 25,
   "metadata": {},
   "outputs": [
    {
     "name": "stdout",
     "output_type": "stream",
     "text": [
      "ルビーン検定\n",
      "p値 = 0.595\n",
      "p値 = 0.330\n",
      "p値 = 0.639\n",
      "p値 = 0.751\n",
      "p値 = 0.330\n",
      "p値 = 0.132\n"
     ]
    }
   ],
   "source": [
    "# _, p1 = stats.levene(df1l,df2l,center='mean')\n",
    "# _, p2 = stats.levene(df1l,df3l,center='mean')\n",
    "# _, p3 = stats.levene(df1l,df4l,center='mean')\n",
    "# _, p4 = stats.levene(df2l,df3l,center='mean')\n",
    "# _, p5 = stats.levene(df2l,df4l,center='mean')\n",
    "# _, p6 = stats.levene(df3l,df4l,center='mean')\n",
    "\n",
    "_, p1 = stats.levene(df1l[\"1look\"],df1l[\"2look\"],center='mean')\n",
    "_, p2 = stats.levene(df1l[\"1look\"],df1l[\"3look\"],center='mean')\n",
    "_, p3 = stats.levene(df1l[\"1look\"],df1l[\"4look\"],center='mean')\n",
    "_, p4 = stats.levene(df1l[\"2look\"],df1l[\"3look\"],center='mean')\n",
    "_, p5 = stats.levene(df1l[\"2look\"],df1l[\"4look\"],center='mean')\n",
    "_, p6 = stats.levene(df1l[\"3look\"],df1l[\"4look\"],center='mean')\n",
    "\n",
    "print('ルビーン検定')\n",
    "print(f'p値 = {p1:.3f}')\n",
    "print(f'p値 = {p2:.3f}')\n",
    "print(f'p値 = {p3:.3f}')\n",
    "print(f'p値 = {p4:.3f}')\n",
    "print(f'p値 = {p5:.3f}')\n",
    "print(f'p値 = {p6:.3f}')"
   ]
  },
  {
   "cell_type": "code",
   "execution_count": 77,
   "metadata": {},
   "outputs": [
    {
     "name": "stdout",
     "output_type": "stream",
     "text": [
      "-1.014, 0.320\n"
     ]
    }
   ],
   "source": [
    "t, p = stats.ttest_ind(df3l, df4l, equal_var=False)\n",
    "# t, p = stats.ttest_ind(df1l[\"2look\"], df1l[\"3look\"])\n",
    "print(f\"{t:.3f}, {p:.3f}\")\n",
    "# stats.mannwhitneyu(df2l, df3l, alternative='two-sided')"
   ]
  },
  {
   "cell_type": "code",
   "execution_count": null,
   "metadata": {},
   "outputs": [],
   "source": []
  },
  {
   "cell_type": "markdown",
   "metadata": {},
   "source": [
    "### 視線移動回数"
   ]
  },
  {
   "cell_type": "code",
   "execution_count": 21,
   "metadata": {},
   "outputs": [],
   "source": [
    "# df1m = pd.concat([df1[\"1move\"], df2[\"2move\"], df3[\"3move\"], df4[\"4move\"]], axis=1)\n",
    "# df1m = df1m.fillna(df1m.median(numeric_only=True))\n",
    "df1m = df1[\"1move\"]\n",
    "# df1m = (df1m - df1m.values.min()) / (df1m.values.max() - df1m.values.min())\n",
    "df2m = df2[\"2move\"]\n",
    "# df2m = (df2m - df2m.values.min()) / (df2m.values.max() - df2m.values.min())\n",
    "df3m = df3[\"3move\"]\n",
    "# df3m = (df3m - df3m.values.min()) / (df3m.values.max() - df3m.values.min())\n",
    "df4m = df4[\"4move\"]\n",
    "# df4m = (df4m - df4m.values.min()) / (df4m.values.max() - df4m.values.min())\n",
    "# df1m"
   ]
  },
  {
   "cell_type": "code",
   "execution_count": 38,
   "metadata": {},
   "outputs": [
    {
     "ename": "NameError",
     "evalue": "name 'df3m' is not defined",
     "output_type": "error",
     "traceback": [
      "\u001b[1;31m---------------------------------------------------------------------------\u001b[0m",
      "\u001b[1;31mNameError\u001b[0m                                 Traceback (most recent call last)",
      "\u001b[1;32m<ipython-input-38-895a8d353efc>\u001b[0m in \u001b[0;36m<module>\u001b[1;34m\u001b[0m\n\u001b[1;32m----> 1\u001b[1;33m \u001b[0mprint\u001b[0m\u001b[1;33m(\u001b[0m\u001b[1;34mf'標本Aの母集団の平均の推定値 = {df3m.mean():.2f}'\u001b[0m\u001b[1;33m)\u001b[0m\u001b[1;33m\u001b[0m\u001b[1;33m\u001b[0m\u001b[0m\n\u001b[0m\u001b[0;32m      2\u001b[0m \u001b[0mprint\u001b[0m\u001b[1;33m(\u001b[0m\u001b[1;34mf'標本Bの母集団の平均の推定値 = {df4m.mean():.2f}'\u001b[0m\u001b[1;33m)\u001b[0m\u001b[1;33m\u001b[0m\u001b[1;33m\u001b[0m\u001b[0m\n\u001b[0;32m      3\u001b[0m \u001b[0mprint\u001b[0m\u001b[1;33m(\u001b[0m\u001b[1;34mf'標本Aの母集団の標準偏差の推定値（不偏標準偏差）= {df3m.std(ddof=1):.2f}'\u001b[0m\u001b[1;33m)\u001b[0m\u001b[1;33m\u001b[0m\u001b[1;33m\u001b[0m\u001b[0m\n\u001b[0;32m      4\u001b[0m \u001b[0mprint\u001b[0m\u001b[1;33m(\u001b[0m\u001b[1;34mf'標本Bの母集団の標準偏差の推定値（不偏標準偏差）= {df4m.std(ddof=1):.2f}'\u001b[0m\u001b[1;33m)\u001b[0m\u001b[1;33m\u001b[0m\u001b[1;33m\u001b[0m\u001b[0m\n",
      "\u001b[1;31mNameError\u001b[0m: name 'df3m' is not defined"
     ]
    }
   ],
   "source": [
    "print(f'標本Aの母集団の平均の推定値 = {df3m.mean():.2f}')\n",
    "print(f'標本Bの母集団の平均の推定値 = {df4m.mean():.2f}')\n",
    "print(f'標本Aの母集団の標準偏差の推定値（不偏標準偏差）= {df3m.std(ddof=1):.2f}')\n",
    "print(f'標本Bの母集団の標準偏差の推定値（不偏標準偏差）= {df4m.std(ddof=1):.2f}')"
   ]
  },
  {
   "cell_type": "code",
   "execution_count": 37,
   "metadata": {},
   "outputs": [],
   "source": [
    "# print(f'標本Aの母集団の平均の推定値 = {df1m[\"1move\"].mean():.2f}')\n",
    "# print(f'標本Bの母集団の平均の推定値 = {df1m[\"2move\"].mean():.2f}')\n",
    "# print(f'標本Aの母集団の標準偏差の推定値（不偏標準偏差）= {df1m[\"1move\"].std(ddof=1):.2f}')\n",
    "# print(f'標本Bの母集団の標準偏差の推定値（不偏標準偏差）= {df1m[\"2move\"].std(ddof=1):.2f}')"
   ]
  },
  {
   "cell_type": "code",
   "execution_count": 39,
   "metadata": {},
   "outputs": [
    {
     "name": "stdout",
     "output_type": "stream",
     "text": [
      "シャピロ・ウィルク検定\n",
      "標本A p値 = 0.020\n",
      "標本B p値 = 0.000\n",
      "標本C p値 = 0.065\n",
      "標本D p値 = 0.082\n"
     ]
    }
   ],
   "source": [
    "# _, pa = stats.shapiro(df1m)\n",
    "# _, pb = stats.shapiro(df2m)\n",
    "# _, pc = stats.shapiro(df3m)\n",
    "# _, pd = stats.shapiro(df4m)\n",
    "\n",
    "_, pa = stats.shapiro(df1m[\"1move\"])\n",
    "_, pb = stats.shapiro(df1m[\"2move\"])\n",
    "_, pc = stats.shapiro(df1m[\"3move\"])\n",
    "_, pd = stats.shapiro(df1m[\"4move\"])\n",
    "\n",
    "print('シャピロ・ウィルク検定')\n",
    "print(f'標本A p値 = {pa:.3f}')\n",
    "print(f'標本B p値 = {pb:.3f}')\n",
    "print(f'標本C p値 = {pc:.3f}')\n",
    "print(f'標本D p値 = {pd:.3f}')"
   ]
  },
  {
   "cell_type": "code",
   "execution_count": 40,
   "metadata": {},
   "outputs": [
    {
     "name": "stdout",
     "output_type": "stream",
     "text": [
      "ルビーン検定\n",
      "p値 = 0.703\n",
      "p値 = 0.072\n",
      "p値 = 0.537\n",
      "p値 = 0.239\n",
      "p値 = 0.906\n",
      "p値 = 0.154\n"
     ]
    }
   ],
   "source": [
    "# _, p1 = stats.levene(df1m,df2m,center='mean')\n",
    "# _, p2 = stats.levene(df1m,df3m,center='mean')\n",
    "# _, p3 = stats.levene(df1m,df4m,center='mean')\n",
    "# _, p4 = stats.levene(df2m,df3m,center='mean')\n",
    "# _, p5 = stats.levene(df2m,df4m,center='mean')\n",
    "# _, p6 = stats.levene(df3m,df4m,center='mean')\n",
    "\n",
    "_, p1 = stats.levene(df1m[\"1move\"],df1m[\"2move\"],center='mean')\n",
    "_, p2 = stats.levene(df1m[\"1move\"],df1m[\"3move\"],center='mean')\n",
    "_, p3 = stats.levene(df1m[\"1move\"],df1m[\"4move\"],center='mean')\n",
    "_, p4 = stats.levene(df1m[\"2move\"],df1m[\"3move\"],center='mean')\n",
    "_, p5 = stats.levene(df1m[\"2move\"],df1m[\"4move\"],center='mean')\n",
    "_, p6 = stats.levene(df1m[\"3move\"],df1m[\"4move\"],center='mean')\n",
    "\n",
    "print('ルビーン検定')\n",
    "print(f'p値 = {p1:.3f}')\n",
    "print(f'p値 = {p2:.3f}')\n",
    "print(f'p値 = {p3:.3f}')\n",
    "print(f'p値 = {p4:.3f}')\n",
    "print(f'p値 = {p5:.3f}')\n",
    "print(f'p値 = {p6:.3f}')"
   ]
  },
  {
   "cell_type": "code",
   "execution_count": 88,
   "metadata": {},
   "outputs": [
    {
     "name": "stdout",
     "output_type": "stream",
     "text": [
      "-0.305, 0.763\n"
     ]
    }
   ],
   "source": [
    "# t, p = stats.ttest_ind(df1m[\"2move\"], df1m[\"3move\"])\n",
    "t, p = stats.ttest_ind(df2m, df3m, equal_var=False)\n",
    "# MU = abs(df3m.mean()-df4m.mean())\n",
    "# SE =  MU/t\n",
    "# DF = len(df3m)+len(df4m)-2\n",
    "# CI = stats.t.interval( alpha=0.95, loc=MU, scale=SE, df=DF )\n",
    "\n",
    "# print('t検定')\n",
    "print(f\"{t:.3f}, {p:.3f}\")\n",
    "# print(f'p値 = {p:.3f}')\n",
    "# print(f't値 = {t:.2f}')\n",
    "# print(f'平均値の差   = {MU:.2f}')\n",
    "# print(f'差の標準誤差 = {SE:.2f}')\n",
    "# print(f'平均値の差の95%信頼区間CI = [{CI[0]:.2f} , {CI[1]:.2f}]')"
   ]
  },
  {
   "cell_type": "code",
   "execution_count": 142,
   "metadata": {},
   "outputs": [
    {
     "name": "stdout",
     "output_type": "stream",
     "text": [
      "-0.055, 0.957\n"
     ]
    }
   ],
   "source": [
    "t, p = stats.ttest_ind(df1m, df2m, equal_var=False)\n",
    "# t, p = stats.ttest_ind(df1m[\"2move\"], df1m[\"4move\"])\n",
    "print(f\"{t:.3f}, {p:.3f}\")\n",
    "\n",
    "# マンホイットニーのU検定\n",
    "# stats.mannwhitneyu(df1m, df2m, alternative='greater')"
   ]
  },
  {
   "cell_type": "code",
   "execution_count": 203,
   "metadata": {},
   "outputs": [
    {
     "data": {
      "text/plain": [
       "Ttest_indResult(statistic=0.783238395250246, pvalue=0.43962695367100546)"
      ]
     },
     "execution_count": 203,
     "metadata": {},
     "output_type": "execute_result"
    }
   ],
   "source": [
    "stats.ttest_ind(df3m, df4m)"
   ]
  },
  {
   "cell_type": "markdown",
   "metadata": {},
   "source": [
    "## 科目・条件別t検定・U検定"
   ]
  },
  {
   "cell_type": "code",
   "execution_count": 6,
   "metadata": {},
   "outputs": [],
   "source": [
    "# 前：科目、後：講義の種類\n",
    "# 点数\n",
    "df11p = df_1_1[\"1poi\"]\n",
    "df22p = df_1_2[\"2poi\"]\n",
    "df33p = df_1_3[\"3poi\"]\n",
    "df12p = df_2_2[\"2poi\"]\n",
    "df23p = df_2_3[\"3poi\"]\n",
    "df34p = df_2_4[\"4poi\"]\n",
    "df13p = df_3_3[\"3poi\"]\n",
    "df24p = df_3_4[\"4poi\"]\n",
    "df31p = df_3_1[\"1poi\"]\n",
    "df14p = df_4_4[\"4poi\"]\n",
    "df21p = df_4_1[\"1poi\"]\n",
    "df32p = df_4_2[\"2poi\"]\n",
    "\n",
    "# 注視\n",
    "df11l = df_1_1[\"1look\"]\n",
    "df22l = df_1_2[\"2look\"]\n",
    "df33l = df_1_3[\"3look\"]\n",
    "df12l = df_2_2[\"2look\"]\n",
    "df23l = df_2_3[\"3look\"]\n",
    "df34l = df_2_4[\"4look\"]\n",
    "df13l = df_3_3[\"3look\"]\n",
    "df24l = df_3_4[\"4look\"]\n",
    "df31l = df_3_1[\"1look\"]\n",
    "df14l = df_4_4[\"4look\"]\n",
    "df21l = df_4_1[\"1look\"]\n",
    "df32l = df_4_2[\"2look\"]\n",
    "\n",
    "# 移動\n",
    "# df11m = df_1_1[\"1move\"]\n",
    "# df22m = df_1_2[\"2move\"]\n",
    "# df33m = df_1_3[\"3move\"]\n",
    "# df12m = df_2_2[\"2move\"]\n",
    "# df23m = df_2_3[\"3move\"]\n",
    "# df34m = df_2_4[\"4move\"]\n",
    "# df13m = df_3_3[\"3move\"]\n",
    "# df24m = df_3_4[\"4move\"]\n",
    "# df31m = df_3_1[\"1move\"]\n",
    "# df14m = df_4_4[\"4move\"]\n",
    "# df21m = df_4_1[\"1move\"]\n",
    "# df32m = df_4_2[\"2move\"]\n",
    "df11m = df_m[\"ty_m\"][df_m[\"num\"]==1]\n",
    "df22m = df_m[\"au_m\"][df_m[\"num\"]==1]\n",
    "df33m = df_m[\"ci_m\"][df_m[\"num\"]==1]\n",
    "df12m = df_m[\"ty_m\"][df_m[\"num\"]==2]\n",
    "df23m = df_m[\"au_m\"][df_m[\"num\"]==2]\n",
    "df34m = df_m[\"ci_m\"][df_m[\"num\"]==2]\n",
    "df13m = df_m[\"ty_m\"][df_m[\"num\"]==3]\n",
    "df24m = df_m[\"au_m\"][df_m[\"num\"]==3]\n",
    "df31m = df_m[\"ci_m\"][df_m[\"num\"]==3]\n",
    "df14m = df_m[\"ty_m\"][df_m[\"num\"]==4]\n",
    "df21m = df_m[\"au_m\"][df_m[\"num\"]==4]\n",
    "df32m = df_m[\"ci_m\"][df_m[\"num\"]==4]\n",
    "\n",
    "df11im = df_im[\"ty_ch\"][df_im[\"num\"]==1]\n",
    "df12im = df_im[\"ty_ch\"][df_im[\"num\"]==2]\n",
    "df13im = df_im[\"ty_ch\"][df_im[\"num\"]==3]\n",
    "df14im = df_im[\"ty_ch\"][df_im[\"num\"]==4]\n",
    "\n",
    "df22im = df_im[\"au_ch\"][df_im[\"num\"]==1]\n",
    "df23im = df_im[\"au_ch\"][df_im[\"num\"]==2]\n",
    "df24im = df_im[\"au_ch\"][df_im[\"num\"]==3]\n",
    "df21im = df_im[\"au_ch\"][df_im[\"num\"]==4]\n",
    "\n",
    "df33im = df_im[\"ci_ch\"][df_im[\"num\"]==1]\n",
    "df34im = df_im[\"ci_ch\"][df_im[\"num\"]==2]\n",
    "df31im = df_im[\"ci_ch\"][df_im[\"num\"]==3]\n",
    "df32im = df_im[\"ci_ch\"][df_im[\"num\"]==4]\n",
    "\n",
    "# print(df12l.mean())\n",
    "# print(df21l.mean())\n",
    "# print(\"-----\")\n",
    "# print(df22l.mean())\n",
    "# print(df32m.mean())\n",
    "# print(\"-----\")\n",
    "# print(df23l.mean())\n",
    "# print(df34l.mean())\n",
    "# df31m\n",
    "# df31m.mean()"
   ]
  },
  {
   "cell_type": "code",
   "execution_count": 7,
   "metadata": {},
   "outputs": [
    {
     "data": {
      "text/plain": [
       "2     10.0\n",
       "6     12.0\n",
       "10    51.0\n",
       "14    45.0\n",
       "18     6.0\n",
       "Name: ci_m, dtype: float64"
      ]
     },
     "execution_count": 7,
     "metadata": {},
     "output_type": "execute_result"
    }
   ],
   "source": [
    "df31m"
   ]
  },
  {
   "cell_type": "code",
   "execution_count": 8,
   "metadata": {},
   "outputs": [],
   "source": [
    "# df32m.mean()\n",
    "# df32m\n",
    "# print(df11l.mean())\n",
    "# print(df21l.mean())\n",
    "# print(\"-----\")\n",
    "# print(df22l.mean())\n",
    "# print(df32l.mean())\n",
    "# print(\"-----\")\n",
    "# print(df23l.mean())\n",
    "# print(df33l.mean())\n",
    "\n",
    "# print(df12p.mean())\n",
    "# print(df13p.mean())\n",
    "# print(df23p.mean())\n",
    "# df11l."
   ]
  },
  {
   "cell_type": "code",
   "execution_count": 20,
   "metadata": {},
   "outputs": [
    {
     "name": "stdout",
     "output_type": "stream",
     "text": [
      "17.75\n",
      "17.0\n",
      "-----\n",
      "11.8\n",
      "-----\n",
      "22.0\n",
      "17.0\n"
     ]
    }
   ],
   "source": [
    "# 外れ値の処理\n",
    "df12p = df12p[df12p<5]\n",
    "df13p = df13p[df13p<5]\n",
    "df24p = df24p[df24p!=3]\n",
    "\n",
    "df11l = df11l[(df11l<5) & (df11l>2)]\n",
    "df21l = df21l[df21l<12.5]\n",
    "df22l = df22l[df22l>1]\n",
    "df23l = df23l[df23l<9]\n",
    "df32l = df32l[df32l<14]\n",
    "df33l = df33l[df33l>1]\n",
    "\n",
    "df12m = df12m[df12m<40]\n",
    "df21m = df21m[df21m<60]\n",
    "df22m = df22m[df22m<25]\n",
    "df23m = df23m[df23m<40]\n",
    "df24m = df24m[df24m<50]\n",
    "# df32m = df32m[df32m<45]\n",
    "# df33m = df33m[df33m>15]\n",
    "\n",
    "df12im = df12im[df12im!=8]\n",
    "df14im = df14im[df14im!=13]\n",
    "df31im = df31im[df31im!=8]\n",
    "df34im = df34im[df34im!=6]\n",
    "\n",
    "print(df12m.mean())\n",
    "print(df21m.mean())\n",
    "print(\"-----\")\n",
    "print(df22m.mean())\n",
    "# print(df32m.mean())\n",
    "print(\"-----\")\n",
    "print(df23m.mean())\n",
    "print(df24m.mean())"
   ]
  },
  {
   "cell_type": "code",
   "execution_count": 70,
   "metadata": {},
   "outputs": [
    {
     "data": {
      "text/plain": [
       "0    2.0\n",
       "1    3.0\n",
       "2    5.0\n",
       "3    5.0\n",
       "4    4.0\n",
       "5    3.0\n",
       "Name: 1poi, dtype: float64"
      ]
     },
     "execution_count": 70,
     "metadata": {},
     "output_type": "execute_result"
    }
   ],
   "source": [
    "# 上限下限を揃えたt検定の正規化用\n",
    "\n",
    "# df111p = pd.concat([df11p, df21p, df31p]).reset_index(drop=True)\n",
    "df11p[\"17\"] = 6\n",
    "df11p[\"18\"] = 0\n",
    "# df111p = (df111p - df111p.values.min()) / (df111p.values.max() - df111p.values.min())\n",
    "df11p = df11p.drop([\"17\", \"18\"])\n",
    "df11p"
   ]
  },
  {
   "cell_type": "code",
   "execution_count": 8,
   "metadata": {},
   "outputs": [
    {
     "data": {
      "text/html": [
       "<div>\n",
       "<style scoped>\n",
       "    .dataframe tbody tr th:only-of-type {\n",
       "        vertical-align: middle;\n",
       "    }\n",
       "\n",
       "    .dataframe tbody tr th {\n",
       "        vertical-align: top;\n",
       "    }\n",
       "\n",
       "    .dataframe thead th {\n",
       "        text-align: right;\n",
       "    }\n",
       "</style>\n",
       "<table border=\"1\" class=\"dataframe\">\n",
       "  <thead>\n",
       "    <tr style=\"text-align: right;\">\n",
       "      <th></th>\n",
       "      <th>1poi</th>\n",
       "      <th>2poi</th>\n",
       "      <th>3poi</th>\n",
       "      <th>4poi</th>\n",
       "    </tr>\n",
       "  </thead>\n",
       "  <tbody>\n",
       "    <tr>\n",
       "      <th>0</th>\n",
       "      <td>2.0</td>\n",
       "      <td>4.0</td>\n",
       "      <td>4.0</td>\n",
       "      <td>4.0</td>\n",
       "    </tr>\n",
       "    <tr>\n",
       "      <th>1</th>\n",
       "      <td>3.0</td>\n",
       "      <td>4.0</td>\n",
       "      <td>4.0</td>\n",
       "      <td>1.0</td>\n",
       "    </tr>\n",
       "    <tr>\n",
       "      <th>2</th>\n",
       "      <td>5.0</td>\n",
       "      <td>5.0</td>\n",
       "      <td>4.0</td>\n",
       "      <td>5.0</td>\n",
       "    </tr>\n",
       "    <tr>\n",
       "      <th>3</th>\n",
       "      <td>5.0</td>\n",
       "      <td>4.0</td>\n",
       "      <td>5.0</td>\n",
       "      <td>5.0</td>\n",
       "    </tr>\n",
       "    <tr>\n",
       "      <th>4</th>\n",
       "      <td>4.0</td>\n",
       "      <td>4.0</td>\n",
       "      <td>4.0</td>\n",
       "      <td>5.0</td>\n",
       "    </tr>\n",
       "    <tr>\n",
       "      <th>5</th>\n",
       "      <td>3.0</td>\n",
       "      <td>4.0</td>\n",
       "      <td>4.0</td>\n",
       "      <td>3.0</td>\n",
       "    </tr>\n",
       "  </tbody>\n",
       "</table>\n",
       "</div>"
      ],
      "text/plain": [
       "   1poi  2poi  3poi  4poi\n",
       "0   2.0   4.0   4.0   4.0\n",
       "1   3.0   4.0   4.0   1.0\n",
       "2   5.0   5.0   4.0   5.0\n",
       "3   5.0   4.0   5.0   5.0\n",
       "4   4.0   4.0   4.0   5.0\n",
       "5   3.0   4.0   4.0   3.0"
      ]
     },
     "execution_count": 8,
     "metadata": {},
     "output_type": "execute_result"
    }
   ],
   "source": [
    "# まとめて正規化\n",
    "dfty = pd.concat([df_1_1, df_2_2, df_3_3, df_4_4], axis=1)\n",
    "dfty = dfty.fillna(dfty.median(numeric_only=True))\n",
    "dftyp = dfty[[\"1poi\", \"2poi\", \"3poi\", \"4poi\"]]\n",
    "dftyl = dfty[[\"1look\", \"2look\", \"3look\", \"4look\"]]\n",
    "dftym = dfty[[\"1move\", \"2move\", \"3move\", \"4move\"]]\n",
    "\n",
    "dfau = pd.concat([df_1_2, df_2_3, df_3_4, df_4_1], axis=1)\n",
    "dfau = dfau.fillna(dfau.median(numeric_only=True))\n",
    "dfaup = dfau[[\"1poi\", \"2poi\", \"3poi\", \"4poi\"]]\n",
    "dfaul = dfau[[\"1look\", \"2look\", \"3look\", \"4look\"]]\n",
    "dfaum = dfau[[\"1move\", \"2move\", \"3move\", \"4move\"]]\n",
    "\n",
    "dfci = pd.concat([df_1_3, df_2_4, df_3_1, df_4_2], axis=1)\n",
    "dfci = dfci.fillna(dfci.median(numeric_only=True))\n",
    "dfcip = dfci[[\"1poi\", \"2poi\", \"3poi\", \"4poi\"]]\n",
    "dfcil = dfci[[\"1look\", \"2look\", \"3look\", \"4look\"]]\n",
    "dfcim = dfci[[\"1move\", \"2move\", \"3move\", \"4move\"]]\n",
    "\n",
    "# dftyp = (dftyp - dftyp.values.min()) / (dftyp.values.max() - dftyp.values.min())\n",
    "# dftyl = (dftyl - dftyl.values.min()) / (dftyl.values.max() - dftyl.values.min())\n",
    "# dftym = (dftym - dftym.values.min()) / (dftym.values.max() - dftym.values.min())\n",
    "\n",
    "# dfaup = (dfaup - dfaup.values.min()) / (dfaup.values.max() - dfaup.values.min())\n",
    "# dfaul = (dfaul - dfaul.values.min()) / (dfaul.values.max() - dfaul.values.min())\n",
    "# dfaum = (dfaum - dfaum.values.min()) / (dfaum.values.max() - dfaum.values.min())\n",
    "\n",
    "# dfcip = (dfcip - dfcip.values.min()) / (dfcip.values.max() - dfcip.values.min())\n",
    "# dfcil = (dfcil - dfcil.values.min()) / (dfcil.values.max() - dfcil.values.min())\n",
    "# dfcim = (dfcim - dfcim.values.min()) / (dfcim.values.max() - dfcim.values.min())\n",
    "\n",
    "dftyp"
   ]
  },
  {
   "cell_type": "markdown",
   "metadata": {},
   "source": [
    "## 点数"
   ]
  },
  {
   "cell_type": "code",
   "execution_count": 12,
   "metadata": {},
   "outputs": [
    {
     "name": "stdout",
     "output_type": "stream",
     "text": [
      "シャピロ・ウィルク検定\n",
      "標本11 p値 = 0.415\n",
      "標本12 p値 = 0.000\n",
      "標本13 p値 = 0.000\n",
      "標本14 p値 = 0.070\n",
      "------\n",
      "標本21 p値 = 0.820\n",
      "標本22 p値 = 0.415\n",
      "標本23 p値 = 0.314\n",
      "標本24 p値 = 0.021\n",
      "------\n",
      "標本31 p値 = 0.314\n",
      "標本32 p値 = 0.007\n",
      "標本33 p値 = 0.352\n",
      "標本34 p値 = 0.787\n"
     ]
    }
   ],
   "source": [
    "# 正規性\n",
    "_, p1 = stats.shapiro(df11p)\n",
    "_, p2 = stats.shapiro(df12p)\n",
    "_, p3 = stats.shapiro(df13p)\n",
    "_, p4 = stats.shapiro(df14p)\n",
    "_, p5 = stats.shapiro(df21p)\n",
    "_, p6 = stats.shapiro(df22p)\n",
    "_, p7 = stats.shapiro(df23p)\n",
    "_, p8 = stats.shapiro(df24p)\n",
    "_, p9 = stats.shapiro(df31p)\n",
    "_, p10 = stats.shapiro(df32p)\n",
    "_, p11 = stats.shapiro(df33p)\n",
    "_, p12 = stats.shapiro(df34p)\n",
    "\n",
    "# _, p1 = stats.shapiro(dftyp[\"1poi\"])\n",
    "# _, p2 = stats.shapiro(dftyp[\"2poi\"])\n",
    "# _, p3 = stats.shapiro(dftyp[\"3poi\"])\n",
    "# _, p4 = stats.shapiro(dftyp[\"4poi\"])\n",
    "# _, p5 = stats.shapiro(dfaup[\"1poi\"])\n",
    "# _, p6 = stats.shapiro(dfaup[\"2poi\"])\n",
    "# _, p7 = stats.shapiro(dfaup[\"3poi\"])\n",
    "# _, p8 = stats.shapiro(dfaup[\"4poi\"])\n",
    "# _, p9 = stats.shapiro(dfcip[\"1poi\"])\n",
    "# _, p10 = stats.shapiro(dfcip[\"2poi\"])\n",
    "# _, p11 = stats.shapiro(dfcip[\"3poi\"])\n",
    "# _, p12 = stats.shapiro(dfcip[\"4poi\"])\n",
    "\n",
    "print('シャピロ・ウィルク検定')\n",
    "print(f'標本11 p値 = {p1:.3f}')\n",
    "print(f'標本12 p値 = {p2:.3f}')\n",
    "print(f'標本13 p値 = {p3:.3f}')\n",
    "print(f'標本14 p値 = {p4:.3f}')\n",
    "print(\"------\")\n",
    "print(f'標本21 p値 = {p5:.3f}')\n",
    "print(f'標本22 p値 = {p6:.3f}')\n",
    "print(f'標本23 p値 = {p7:.3f}')\n",
    "print(f'標本24 p値 = {p8:.3f}')\n",
    "print(\"------\")\n",
    "print(f'標本31 p値 = {p9:.3f}')\n",
    "print(f'標本32 p値 = {p10:.3f}')\n",
    "print(f'標本33 p値 = {p11:.3f}')\n",
    "print(f'標本34 p値 = {p12:.3f}')"
   ]
  },
  {
   "cell_type": "code",
   "execution_count": 10,
   "metadata": {},
   "outputs": [
    {
     "name": "stdout",
     "output_type": "stream",
     "text": [
      "ルビーン検定\n",
      "p値 = 0.027\n",
      "p値 = 0.027\n",
      "p値 = 0.605\n",
      "p値 = 1.000\n",
      "p値 = 0.056\n",
      "p値 = 0.056\n",
      "------\n",
      "p値 = 0.588\n",
      "p値 = 0.524\n",
      "p値 = 0.746\n",
      "p値 = 0.248\n",
      "p値 = 0.918\n",
      "p値 = 0.428\n",
      "------\n",
      "p値 = 0.148\n",
      "p値 = 0.033\n",
      "p値 = 0.041\n",
      "p値 = 0.193\n",
      "p値 = 0.142\n",
      "p値 = 0.670\n"
     ]
    }
   ],
   "source": [
    "_, p1 = stats.levene(df11p,df12p,center='mean')\n",
    "_, p2 = stats.levene(df11p,df13p,center='mean')\n",
    "_, p3 = stats.levene(df11p,df14p,center='mean')\n",
    "_, p4 = stats.levene(df12p,df13p,center='mean')\n",
    "_, p5 = stats.levene(df12p,df14p,center='mean')\n",
    "_, p6 = stats.levene(df13p,df14p,center='mean')\n",
    "_, pa = stats.levene(df21p,df22p,center='mean')\n",
    "_, pb = stats.levene(df21p,df23p,center='mean')\n",
    "_, pc = stats.levene(df21p,df24p,center='mean')\n",
    "_, pd = stats.levene(df22p,df23p,center='mean')\n",
    "_, pe = stats.levene(df22p,df24p,center='mean')\n",
    "_, pf = stats.levene(df23p,df24p,center='mean')\n",
    "_, pu = stats.levene(df31p,df32p,center='mean')\n",
    "_, pv = stats.levene(df31p,df33p,center='mean')\n",
    "_, pw = stats.levene(df31p,df34p,center='mean')\n",
    "_, px = stats.levene(df32p,df33p,center='mean')\n",
    "_, py = stats.levene(df32p,df34p,center='mean')\n",
    "_, pz = stats.levene(df33p,df34p,center='mean')\n",
    "\n",
    "# _, p1 = stats.levene(dftyp[\"1poi\"],dftyp[\"2poi\"],center='mean')\n",
    "# _, p2 = stats.levene(dftyp[\"1poi\"],dftyp[\"3poi\"],center='mean')\n",
    "# _, p3 = stats.levene(dftyp[\"1poi\"],dftyp[\"4poi\"],center='mean')\n",
    "# _, p4 = stats.levene(dftyp[\"2poi\"],dftyp[\"3poi\"],center='mean')\n",
    "# _, p5 = stats.levene(dftyp[\"2poi\"],dftyp[\"4poi\"],center='mean')\n",
    "# _, p6 = stats.levene(dftyp[\"3poi\"],dftyp[\"4poi\"],center='mean')\n",
    "# _, pa = stats.levene(dfaup[\"1poi\"],dfaup[\"2poi\"],center='mean')\n",
    "# _, pb = stats.levene(dfaup[\"1poi\"],dfaup[\"3poi\"],center='mean')\n",
    "# _, pc = stats.levene(dfaup[\"1poi\"],dfaup[\"4poi\"],center='mean')\n",
    "# _, pd = stats.levene(dfaup[\"2poi\"],dfaup[\"3poi\"],center='mean')\n",
    "# _, pe = stats.levene(dfaup[\"2poi\"],dfaup[\"4poi\"],center='mean')\n",
    "# _, pf = stats.levene(dfaup[\"3poi\"],dfaup[\"4poi\"],center='mean')\n",
    "# _, pu = stats.levene(dfcip[\"1poi\"],dfcip[\"2poi\"],center='mean')\n",
    "# _, pv = stats.levene(dfcip[\"1poi\"],dfcip[\"3poi\"],center='mean')\n",
    "# _, pw = stats.levene(dfcip[\"1poi\"],dfcip[\"4poi\"],center='mean')\n",
    "# _, px = stats.levene(dfcip[\"2poi\"],dfcip[\"3poi\"],center='mean')\n",
    "# _, py = stats.levene(dfcip[\"2poi\"],dfcip[\"4poi\"],center='mean')\n",
    "# _, pz = stats.levene(dfcip[\"3poi\"],dfcip[\"4poi\"],center='mean')\n",
    "\n",
    "print('ルビーン検定')\n",
    "print(f'p値 = {p1:.3f}')\n",
    "print(f'p値 = {p2:.3f}')\n",
    "print(f'p値 = {p3:.3f}')\n",
    "print(f'p値 = {p4:.3f}')\n",
    "print(f'p値 = {p5:.3f}')\n",
    "print(f'p値 = {p6:.3f}')\n",
    "print(\"------\")\n",
    "print(f'p値 = {pa:.3f}')\n",
    "print(f'p値 = {pb:.3f}')\n",
    "print(f'p値 = {pc:.3f}')\n",
    "print(f'p値 = {pd:.3f}')\n",
    "print(f'p値 = {pe:.3f}')\n",
    "print(f'p値 = {pf:.3f}')\n",
    "print(\"------\")\n",
    "print(f'p値 = {pu:.3f}')\n",
    "print(f'p値 = {pv:.3f}')\n",
    "print(f'p値 = {pw:.3f}')\n",
    "print(f'p値 = {px:.3f}')\n",
    "print(f'p値 = {py:.3f}')\n",
    "print(f'p値 = {pz:.3f}')"
   ]
  },
  {
   "cell_type": "code",
   "execution_count": 10,
   "metadata": {},
   "outputs": [
    {
     "name": "stdout",
     "output_type": "stream",
     "text": [
      "2.478, 0.037\n"
     ]
    }
   ],
   "source": [
    "# dfp1 = dfcip[\"3poi\"]\n",
    "# dfp2 = dfcip[\"4poi\"]\n",
    "\n",
    "# 1x=6, 2x=8, 3x=10\n",
    "dfp1 = df31p\n",
    "# dfp1[\"17\"] = 10\n",
    "# dfp1[\"18\"] = 0\n",
    "\n",
    "dfp2 = df32p\n",
    "# dfp2[\"17\"] = 10\n",
    "# dfp2[\"18\"] = 0\n",
    "\n",
    "# dfp1 = (dfp1 - dfp1.values.min()) / (dfp1.values.max() - dfp1.values.min())\n",
    "# dfp2 = (dfp2 - dfp2.values.min()) / (dfp2.values.max() - dfp2.values.min())\n",
    "# dfp1 = dfp1.drop([\"17\", \"18\"])\n",
    "# dfp2 = dfp2.drop([\"17\", \"18\"])\n",
    "# print(dfp2)\n",
    "\n",
    "# t, p = stats.ttest_ind(dfp1, dfp2, equal_var=False)\n",
    "t, p = stats.mannwhitneyu(dfp1, dfp2, alternative='two-sided')\n",
    "print(f\"{t:.3f}, {p:.3f}\")"
   ]
  },
  {
   "cell_type": "code",
   "execution_count": 8,
   "metadata": {
    "scrolled": true
   },
   "outputs": [
    {
     "name": "stdout",
     "output_type": "stream",
     "text": [
      "3.6666666666666665\n",
      "4.0\n",
      "4.0\n",
      "3.8333333333333335\n",
      "-------------\n",
      "4.5\n",
      "4.666666666666667\n",
      "4.2\n",
      "5.75\n",
      "-----------------\n",
      "7.8\n",
      "6.166666666666667\n",
      "7.0\n",
      "7.4\n"
     ]
    }
   ],
   "source": [
    "print(df11p.mean())\n",
    "print(df12p.mean())\n",
    "print(df13p.mean())\n",
    "print(df14p.mean())\n",
    "print(\"-------------\")\n",
    "print(df21p.mean())\n",
    "print(df22p.mean())\n",
    "print(df23p.mean())\n",
    "print(df24p.mean())\n",
    "print(\"-----------------\")\n",
    "print(df31p.mean())\n",
    "print(df32p.mean())\n",
    "print(df33p.mean())\n",
    "print(df34p.mean())"
   ]
  },
  {
   "cell_type": "code",
   "execution_count": 9,
   "metadata": {},
   "outputs": [
    {
     "name": "stdout",
     "output_type": "stream",
     "text": [
      "1.106\n",
      "0.0\n",
      "0.0\n",
      "1.462\n",
      "-------------\n",
      "0.957\n",
      "1.106\n",
      "0.748\n",
      "0.433\n",
      "-----------------\n",
      "0.748\n",
      "1.213\n",
      "1.826\n",
      "2.154\n"
     ]
    }
   ],
   "source": [
    "print(round(np.std(df11p), 3))\n",
    "print(round(np.std(df12p), 3))\n",
    "print(round(np.std(df13p), 3))\n",
    "print(round(np.std(df14p), 3))\n",
    "print(\"-------------\")\n",
    "print(round(np.std(df21p), 3))\n",
    "print(round(np.std(df22p), 3))\n",
    "print(round(np.std(df23p), 3))\n",
    "print(round(np.std(df24p), 3))\n",
    "print(\"-----------------\")\n",
    "print(round(np.std(df31p), 3))\n",
    "print(round(np.std(df32p), 3))\n",
    "print(round(np.std(df33p), 3))\n",
    "print(round(np.std(df34p), 3))"
   ]
  },
  {
   "cell_type": "markdown",
   "metadata": {},
   "source": [
    "## 注視"
   ]
  },
  {
   "cell_type": "code",
   "execution_count": 13,
   "metadata": {},
   "outputs": [
    {
     "ename": "NameError",
     "evalue": "name 'dftyl' is not defined",
     "output_type": "error",
     "traceback": [
      "\u001b[1;31m---------------------------------------------------------------------------\u001b[0m",
      "\u001b[1;31mNameError\u001b[0m                                 Traceback (most recent call last)",
      "\u001b[1;32m<ipython-input-13-3d0551af4983>\u001b[0m in \u001b[0;36m<module>\u001b[1;34m\u001b[0m\n\u001b[0;32m     13\u001b[0m \u001b[1;31m# _, p12 = stats.shapiro(df34l)\u001b[0m\u001b[1;33m\u001b[0m\u001b[1;33m\u001b[0m\u001b[1;33m\u001b[0m\u001b[0m\n\u001b[0;32m     14\u001b[0m \u001b[1;33m\u001b[0m\u001b[0m\n\u001b[1;32m---> 15\u001b[1;33m \u001b[0m_\u001b[0m\u001b[1;33m,\u001b[0m \u001b[0mp1\u001b[0m \u001b[1;33m=\u001b[0m \u001b[0mstats\u001b[0m\u001b[1;33m.\u001b[0m\u001b[0mshapiro\u001b[0m\u001b[1;33m(\u001b[0m\u001b[0mdftyl\u001b[0m\u001b[1;33m[\u001b[0m\u001b[1;34m\"1look\"\u001b[0m\u001b[1;33m]\u001b[0m\u001b[1;33m)\u001b[0m\u001b[1;33m\u001b[0m\u001b[1;33m\u001b[0m\u001b[0m\n\u001b[0m\u001b[0;32m     16\u001b[0m \u001b[0m_\u001b[0m\u001b[1;33m,\u001b[0m \u001b[0mp2\u001b[0m \u001b[1;33m=\u001b[0m \u001b[0mstats\u001b[0m\u001b[1;33m.\u001b[0m\u001b[0mshapiro\u001b[0m\u001b[1;33m(\u001b[0m\u001b[0mdftyl\u001b[0m\u001b[1;33m[\u001b[0m\u001b[1;34m\"2look\"\u001b[0m\u001b[1;33m]\u001b[0m\u001b[1;33m)\u001b[0m\u001b[1;33m\u001b[0m\u001b[1;33m\u001b[0m\u001b[0m\n\u001b[0;32m     17\u001b[0m \u001b[0m_\u001b[0m\u001b[1;33m,\u001b[0m \u001b[0mp3\u001b[0m \u001b[1;33m=\u001b[0m \u001b[0mstats\u001b[0m\u001b[1;33m.\u001b[0m\u001b[0mshapiro\u001b[0m\u001b[1;33m(\u001b[0m\u001b[0mdftyl\u001b[0m\u001b[1;33m[\u001b[0m\u001b[1;34m\"3look\"\u001b[0m\u001b[1;33m]\u001b[0m\u001b[1;33m)\u001b[0m\u001b[1;33m\u001b[0m\u001b[1;33m\u001b[0m\u001b[0m\n",
      "\u001b[1;31mNameError\u001b[0m: name 'dftyl' is not defined"
     ]
    }
   ],
   "source": [
    "# 正規性\n",
    "# _, p1 = stats.shapiro(df11l)\n",
    "# _, p2 = stats.shapiro(df12l)\n",
    "# _, p3 = stats.shapiro(df13l)\n",
    "# _, p4 = stats.shapiro(df14l)\n",
    "# _, p5 = stats.shapiro(df21l)\n",
    "# _, p6 = stats.shapiro(df22l)\n",
    "# _, p7 = stats.shapiro(df23l)\n",
    "# _, p8 = stats.shapiro(df24l)\n",
    "# _, p9 = stats.shapiro(df31l)\n",
    "# _, p10 = stats.shapiro(df32l)\n",
    "# _, p11 = stats.shapiro(df33l)\n",
    "# _, p12 = stats.shapiro(df34l)\n",
    "\n",
    "_, p1 = stats.shapiro(dftyl[\"1look\"])\n",
    "_, p2 = stats.shapiro(dftyl[\"2look\"])\n",
    "_, p3 = stats.shapiro(dftyl[\"3look\"])\n",
    "_, p4 = stats.shapiro(dftyl[\"4look\"])\n",
    "_, p5 = stats.shapiro(dfaul[\"1look\"])\n",
    "_, p6 = stats.shapiro(dfaul[\"2look\"])\n",
    "_, p7 = stats.shapiro(dfaul[\"3look\"])\n",
    "_, p8 = stats.shapiro(dfaul[\"4look\"])\n",
    "_, p9 = stats.shapiro(dfcil[\"1look\"])\n",
    "_, p10 = stats.shapiro(dfcil[\"2look\"])\n",
    "_, p11 = stats.shapiro(dfcil[\"3look\"])\n",
    "_, p12 = stats.shapiro(dfcil[\"4look\"])\n",
    "\n",
    "print('シャピロ・ウィルク検定')\n",
    "print(f'標本11 p値 = {p1:.3f}')\n",
    "print(f'標本12 p値 = {p2:.3f}')\n",
    "print(f'標本13 p値 = {p3:.3f}')\n",
    "print(f'標本14 p値 = {p4:.3f}')\n",
    "print(\"------\")\n",
    "print(f'標本21 p値 = {p5:.3f}')\n",
    "print(f'標本22 p値 = {p6:.3f}')\n",
    "print(f'標本23 p値 = {p7:.3f}')\n",
    "print(f'標本24 p値 = {p8:.3f}')\n",
    "print(\"------\")\n",
    "print(f'標本31 p値 = {p9:.3f}')\n",
    "print(f'標本32 p値 = {p10:.3f}')\n",
    "print(f'標本33 p値 = {p11:.3f}')\n",
    "print(f'標本34 p値 = {p12:.3f}')"
   ]
  },
  {
   "cell_type": "code",
   "execution_count": 79,
   "metadata": {},
   "outputs": [
    {
     "name": "stdout",
     "output_type": "stream",
     "text": [
      "ルビーン検定\n",
      "p値 = 0.759\n",
      "p値 = 0.170\n",
      "p値 = 0.121\n",
      "p値 = 0.260\n",
      "p値 = 0.165\n",
      "p値 = 0.492\n",
      "------\n",
      "p値 = 0.043\n",
      "p値 = 0.292\n",
      "p値 = 0.811\n",
      "p値 = 0.100\n",
      "p値 = 0.029\n",
      "p値 = 0.341\n",
      "------\n",
      "p値 = 0.487\n",
      "p値 = 0.136\n",
      "p値 = 0.637\n",
      "p値 = 0.151\n",
      "p値 = 0.342\n",
      "p値 = 0.318\n"
     ]
    }
   ],
   "source": [
    "# _, p1 = stats.levene(df11l,df12l,center='mean')\n",
    "# _, p2 = stats.levene(df11l,df13l,center='mean')\n",
    "# _, p3 = stats.levene(df11l,df14l,center='mean')\n",
    "# _, p4 = stats.levene(df12l,df13l,center='mean')\n",
    "# _, p5 = stats.levene(df12l,df14l,center='mean')\n",
    "# _, p6 = stats.levene(df13l,df14l,center='mean')\n",
    "# _, pa = stats.levene(df21l,df22l,center='mean')\n",
    "# _, pb = stats.levene(df21l,df23l,center='mean')\n",
    "# _, pc = stats.levene(df21l,df24l,center='mean')\n",
    "# _, pd = stats.levene(df22l,df23l,center='mean')\n",
    "# _, pe = stats.levene(df22l,df24l,center='mean')\n",
    "# _, pf = stats.levene(df23l,df24l,center='mean')\n",
    "# _, pu = stats.levene(df31l,df32l,center='mean')\n",
    "# _, pv = stats.levene(df31l,df33l,center='mean')\n",
    "# _, pw = stats.levene(df31l,df34l,center='mean')\n",
    "# _, px = stats.levene(df32l,df33l,center='mean')\n",
    "# _, py = stats.levene(df32l,df34l,center='mean')\n",
    "# _, pz = stats.levene(df33l,df34l,center='mean')\n",
    "\n",
    "_, p1 = stats.levene(dftyl[\"1look\"],dftyl[\"2look\"],center='mean')\n",
    "_, p2 = stats.levene(dftyl[\"1look\"],dftyl[\"3look\"],center='mean')\n",
    "_, p3 = stats.levene(dftyl[\"1look\"],dftyl[\"4look\"],center='mean')\n",
    "_, p4 = stats.levene(dftyl[\"2look\"],dftyl[\"3look\"],center='mean')\n",
    "_, p5 = stats.levene(dftyl[\"2look\"],dftyl[\"4look\"],center='mean')\n",
    "_, p6 = stats.levene(dftyl[\"3look\"],dftyl[\"4look\"],center='mean')\n",
    "_, pa = stats.levene(dfaul[\"1look\"],dfaul[\"2look\"],center='mean')\n",
    "_, pb = stats.levene(dfaul[\"1look\"],dfaul[\"3look\"],center='mean')\n",
    "_, pc = stats.levene(dfaul[\"1look\"],dfaul[\"4look\"],center='mean')\n",
    "_, pd = stats.levene(dfaul[\"2look\"],dfaul[\"3look\"],center='mean')\n",
    "_, pe = stats.levene(dfaul[\"2look\"],dfaul[\"4look\"],center='mean')\n",
    "_, pf = stats.levene(dfaul[\"3look\"],dfaul[\"4look\"],center='mean')\n",
    "_, pu = stats.levene(dfcil[\"1look\"],dfcil[\"2look\"],center='mean')\n",
    "_, pv = stats.levene(dfcil[\"1look\"],dfcil[\"3look\"],center='mean')\n",
    "_, pw = stats.levene(dfcil[\"1look\"],dfcil[\"4look\"],center='mean')\n",
    "_, px = stats.levene(dfcil[\"2look\"],dfcil[\"3look\"],center='mean')\n",
    "_, py = stats.levene(dfcil[\"2look\"],dfcil[\"4look\"],center='mean')\n",
    "_, pz = stats.levene(dfcil[\"3look\"],dfcil[\"4look\"],center='mean')\n",
    "\n",
    "print('ルビーン検定')\n",
    "print(f'p値 = {p1:.3f}')\n",
    "print(f'p値 = {p2:.3f}')\n",
    "print(f'p値 = {p3:.3f}')\n",
    "print(f'p値 = {p4:.3f}')\n",
    "print(f'p値 = {p5:.3f}')\n",
    "print(f'p値 = {p6:.3f}')\n",
    "print(\"------\")\n",
    "print(f'p値 = {pa:.3f}')\n",
    "print(f'p値 = {pb:.3f}')\n",
    "print(f'p値 = {pc:.3f}')\n",
    "print(f'p値 = {pd:.3f}')\n",
    "print(f'p値 = {pe:.3f}')\n",
    "print(f'p値 = {pf:.3f}')\n",
    "print(\"------\")\n",
    "print(f'p値 = {pu:.3f}')\n",
    "print(f'p値 = {pv:.3f}')\n",
    "print(f'p値 = {pw:.3f}')\n",
    "print(f'p値 = {px:.3f}')\n",
    "print(f'p値 = {py:.3f}')\n",
    "print(f'p値 = {pz:.3f}')"
   ]
  },
  {
   "cell_type": "code",
   "execution_count": 23,
   "metadata": {},
   "outputs": [
    {
     "name": "stdout",
     "output_type": "stream",
     "text": [
      "12.000, 0.378\n"
     ]
    }
   ],
   "source": [
    "# dfl1 = dftyl[\"3look\"]\n",
    "# dfl2 = dftyl[\"4look\"]\n",
    "\n",
    "dfl1 = df11l\n",
    "dfl2 = df14l\n",
    "\n",
    "# dfl1 = (dfl1 - dfl1.values.min()) / (dfl1.values.max() - dfl1.values.min())\n",
    "# dfl2 = (dfl2 - dfl2.values.min()) / (dfl2.values.max() - dfl2.values.min())\n",
    "\n",
    "# dfl1\n",
    "\n",
    "# t, p = stats.ttest_ind(dfl1, dfl2, equal_var=False)\n",
    "t, p = stats.mannwhitneyu(dfl1, dfl2, alternative='two-sided')\n",
    "print(f\"{t:.3f}, {p:.3f}\")"
   ]
  },
  {
   "cell_type": "code",
   "execution_count": 10,
   "metadata": {},
   "outputs": [
    {
     "name": "stdout",
     "output_type": "stream",
     "text": [
      "3.5175\n",
      "3.446\n",
      "4.9719999999999995\n",
      "5.891666666666667\n",
      "2.3440000000000003\n",
      "2.69\n",
      "3.28\n",
      "5.031999999999999\n",
      "4.904000000000001\n",
      "2.452\n",
      "3.6439999999999997\n",
      "5.132\n"
     ]
    }
   ],
   "source": [
    "# stats.ttest_ind(dftyl[\"3look\"], dftyl[\"4look\"])\n",
    "# print(df11l)\n",
    "print(df11l.mean())\n",
    "print(df12l.mean())\n",
    "print(df13l.mean())\n",
    "print(df14l.mean())\n",
    "\n",
    "print(df21l.mean())\n",
    "print(df22l.mean())\n",
    "print(df23l.mean())\n",
    "print(df24l.mean())\n",
    "\n",
    "print(df31l.mean())\n",
    "print(df32l.mean())\n",
    "print(df33l.mean())\n",
    "print(df34l.mean())"
   ]
  },
  {
   "cell_type": "code",
   "execution_count": 11,
   "metadata": {},
   "outputs": [
    {
     "name": "stdout",
     "output_type": "stream",
     "text": [
      "0.525\n",
      "2.31\n",
      "3.2\n",
      "4.311\n",
      "-------------\n",
      "2.095\n",
      "0.236\n",
      "1.308\n",
      "4.377\n",
      "-----------------\n",
      "3.095\n",
      "1.793\n",
      "0.622\n",
      "2.663\n"
     ]
    }
   ],
   "source": [
    "print(round(np.std(df11l), 3))\n",
    "print(round(np.std(df12l), 3))\n",
    "print(round(np.std(df13l), 3))\n",
    "print(round(np.std(df14l), 3))\n",
    "print(\"-------------\")\n",
    "print(round(np.std(df21l), 3))\n",
    "print(round(np.std(df22l), 3))\n",
    "print(round(np.std(df23l), 3))\n",
    "print(round(np.std(df24l), 3))\n",
    "print(\"-----------------\")\n",
    "print(round(np.std(df31l), 3))\n",
    "print(round(np.std(df32l), 3))\n",
    "print(round(np.std(df33l), 3))\n",
    "print(round(np.std(df34l), 3))"
   ]
  },
  {
   "cell_type": "markdown",
   "metadata": {},
   "source": [
    "## 移動"
   ]
  },
  {
   "cell_type": "code",
   "execution_count": 26,
   "metadata": {},
   "outputs": [
    {
     "name": "stdout",
     "output_type": "stream",
     "text": [
      "シャピロ・ウィルク検定\n",
      "標本11 p値 = 0.930\n",
      "標本12 p値 = 0.008\n",
      "標本13 p値 = 0.641\n",
      "標本14 p値 = 0.152\n",
      "------\n",
      "標本21 p値 = 0.056\n",
      "標本22 p値 = 0.559\n",
      "標本23 p値 = 0.002\n",
      "標本24 p値 = 0.089\n",
      "------\n",
      "標本31 p値 = 0.087\n",
      "標本32 p値 = 0.085\n",
      "標本33 p値 = 0.759\n",
      "標本34 p値 = 0.901\n"
     ]
    }
   ],
   "source": [
    "# 正規性\n",
    "_, p1 = stats.shapiro(df11m)\n",
    "_, p2 = stats.shapiro(df12m)\n",
    "_, p3 = stats.shapiro(df13m)\n",
    "_, p4 = stats.shapiro(df14m)\n",
    "_, p5 = stats.shapiro(df21m)\n",
    "_, p6 = stats.shapiro(df22m)\n",
    "_, p7 = stats.shapiro(df23m)\n",
    "_, p8 = stats.shapiro(df24m)\n",
    "_, p9 = stats.shapiro(df31m)\n",
    "_, p10 = stats.shapiro(df32m)\n",
    "_, p11 = stats.shapiro(df33m)\n",
    "_, p12 = stats.shapiro(df34m)\n",
    "\n",
    "# _, p1 = stats.shapiro(dftym[\"1move\"])\n",
    "# _, p2 = stats.shapiro(dftym[\"2move\"])\n",
    "# _, p3 = stats.shapiro(dftym[\"3move\"])\n",
    "# _, p4 = stats.shapiro(dftym[\"4move\"])\n",
    "# _, p5 = stats.shapiro(dfaum[\"1move\"])\n",
    "# _, p6 = stats.shapiro(dfaum[\"2move\"])\n",
    "# _, p7 = stats.shapiro(dfaum[\"3move\"])\n",
    "# _, p8 = stats.shapiro(dfaum[\"4move\"])\n",
    "# _, p9 = stats.shapiro(dfcim[\"1move\"])\n",
    "# _, p10 = stats.shapiro(dfcim[\"2move\"])\n",
    "# _, p11 = stats.shapiro(dfcim[\"3move\"])\n",
    "# _, p12 = stats.shapiro(dfcim[\"4move\"])\n",
    "\n",
    "print('シャピロ・ウィルク検定')\n",
    "print(f'標本11 p値 = {p1:.3f}')\n",
    "print(f'標本12 p値 = {p2:.3f}')\n",
    "print(f'標本13 p値 = {p3:.3f}')\n",
    "print(f'標本14 p値 = {p4:.3f}')\n",
    "print(\"------\")\n",
    "print(f'標本21 p値 = {p5:.3f}')\n",
    "print(f'標本22 p値 = {p6:.3f}')\n",
    "print(f'標本23 p値 = {p7:.3f}')\n",
    "print(f'標本24 p値 = {p8:.3f}')\n",
    "print(\"------\")\n",
    "print(f'標本31 p値 = {p9:.3f}')\n",
    "print(f'標本32 p値 = {p10:.3f}')\n",
    "print(f'標本33 p値 = {p11:.3f}')\n",
    "print(f'標本34 p値 = {p12:.3f}')"
   ]
  },
  {
   "cell_type": "code",
   "execution_count": 27,
   "metadata": {},
   "outputs": [
    {
     "name": "stdout",
     "output_type": "stream",
     "text": [
      "ルビーン検定\n",
      "p値 = 0.902\n",
      "p値 = 0.120\n",
      "p値 = 0.106\n",
      "p値 = 0.213\n",
      "p値 = 0.177\n",
      "p値 = 0.752\n",
      "------\n",
      "p値 = 0.041\n",
      "p値 = 0.090\n",
      "p値 = 0.287\n",
      "p値 = 0.657\n",
      "p値 = 0.253\n",
      "p値 = 0.438\n",
      "------\n",
      "p値 = 0.346\n",
      "p値 = 0.006\n",
      "p値 = 0.102\n",
      "p値 = 0.018\n",
      "p値 = 0.088\n",
      "p値 = 0.245\n"
     ]
    }
   ],
   "source": [
    "_, p1 = stats.levene(df11m,df12m,center='mean')\n",
    "_, p2 = stats.levene(df11m,df13m,center='mean')\n",
    "_, p3 = stats.levene(df11m,df14m,center='mean')\n",
    "_, p4 = stats.levene(df12m,df13m,center='mean')\n",
    "_, p5 = stats.levene(df12m,df14m,center='mean')\n",
    "_, p6 = stats.levene(df13m,df14m,center='mean')\n",
    "_, pa = stats.levene(df21m,df22m,center='mean')\n",
    "_, pb = stats.levene(df21m,df23m,center='mean')\n",
    "_, pc = stats.levene(df21m,df24m,center='mean')\n",
    "_, pd = stats.levene(df22m,df23m,center='mean')\n",
    "_, pe = stats.levene(df22m,df24m,center='mean')\n",
    "_, pf = stats.levene(df23m,df24m,center='mean')\n",
    "_, pu = stats.levene(df31m,df32m,center='mean')\n",
    "_, pv = stats.levene(df31m,df33m,center='mean')\n",
    "_, pw = stats.levene(df31m,df34m,center='mean')\n",
    "_, px = stats.levene(df32m,df33m,center='mean')\n",
    "_, py = stats.levene(df32m,df34m,center='mean')\n",
    "_, pz = stats.levene(df33m,df34m,center='mean')\n",
    "\n",
    "# _, p1 = stats.levene(dftym[\"1move\"],dftym[\"1move\"],center='mean')\n",
    "# _, p2 = stats.levene(dftym[\"1move\"],dftym[\"2move\"],center='mean')\n",
    "# _, p3 = stats.levene(dftym[\"1move\"],dftym[\"3move\"],center='mean')\n",
    "# _, p4 = stats.levene(dftym[\"2move\"],dftym[\"4move\"],center='mean')\n",
    "# _, p5 = stats.levene(dftym[\"2move\"],dftym[\"3move\"],center='mean')\n",
    "# _, p6 = stats.levene(dftym[\"3move\"],dftym[\"4move\"],center='mean')\n",
    "# _, pa = stats.levene(dfaum[\"1move\"],dfaum[\"2move\"],center='mean')\n",
    "# _, pb = stats.levene(dfaum[\"1move\"],dfaum[\"3move\"],center='mean')\n",
    "# _, pc = stats.levene(dfaum[\"1move\"],dfaum[\"4move\"],center='mean')\n",
    "# _, pd = stats.levene(dfaum[\"2move\"],dfaum[\"3move\"],center='mean')\n",
    "# _, pe = stats.levene(dfaum[\"2move\"],dfaum[\"4move\"],center='mean')\n",
    "# _, pf = stats.levene(dfaum[\"3move\"],dfaum[\"4move\"],center='mean')\n",
    "# _, pu = stats.levene(dfcim[\"1move\"],dfcim[\"2move\"],center='mean')\n",
    "# _, pv = stats.levene(dfcim[\"1move\"],dfcim[\"3move\"],center='mean')\n",
    "# _, pw = stats.levene(dfcim[\"1move\"],dfcim[\"4move\"],center='mean')\n",
    "# _, px = stats.levene(dfcim[\"2move\"],dfcim[\"3move\"],center='mean')\n",
    "# _, py = stats.levene(dfcim[\"2move\"],dfcim[\"4move\"],center='mean')\n",
    "# _, pz = stats.levene(dfcim[\"3move\"],dfcim[\"4move\"],center='mean')\n",
    "\n",
    "print('ルビーン検定')\n",
    "print(f'p値 = {p1:.3f}')\n",
    "print(f'p値 = {p2:.3f}')\n",
    "print(f'p値 = {p3:.3f}')\n",
    "print(f'p値 = {p4:.3f}')\n",
    "print(f'p値 = {p5:.3f}')\n",
    "print(f'p値 = {p6:.3f}')\n",
    "print(\"------\")\n",
    "print(f'p値 = {pa:.3f}')\n",
    "print(f'p値 = {pb:.3f}')\n",
    "print(f'p値 = {pc:.3f}')\n",
    "print(f'p値 = {pd:.3f}')\n",
    "print(f'p値 = {pe:.3f}')\n",
    "print(f'p値 = {pf:.3f}')\n",
    "print(\"------\")\n",
    "print(f'p値 = {pu:.3f}')\n",
    "print(f'p値 = {pv:.3f}')\n",
    "print(f'p値 = {pw:.3f}')\n",
    "print(f'p値 = {px:.3f}')\n",
    "print(f'p値 = {py:.3f}')\n",
    "print(f'p値 = {pz:.3f}')"
   ]
  },
  {
   "cell_type": "code",
   "execution_count": 51,
   "metadata": {},
   "outputs": [
    {
     "name": "stdout",
     "output_type": "stream",
     "text": [
      "11.000, 0.835\n"
     ]
    }
   ],
   "source": [
    "# dfm1 = dftym[\"1move\"]\n",
    "# dfm2 = dftym[\"3move\"]\n",
    "\n",
    "dfm1 = df31m\n",
    "dfm2 = df34m\n",
    "# dfm1 = (dfm1 - dfm1.values.min()) / (dfm1.values.max() - dfm1.values.min())\n",
    "# dfm2 = (dfm2 - dfm2.values.min()) / (dfm2.values.max() - dfm2.values.min())\n",
    "\n",
    "# dfl1\n",
    "\n",
    "# t, p = stats.ttest_ind(dfm1, dfm2, equal_var = False)\n",
    "t, p = stats.mannwhitneyu(dfm1, dfm2, alternative='two-sided')\n",
    "print(f\"{t:.3f}, {p:.3f}\")"
   ]
  },
  {
   "cell_type": "code",
   "execution_count": 12,
   "metadata": {},
   "outputs": [
    {
     "name": "stdout",
     "output_type": "stream",
     "text": [
      "14.0\n",
      "17.75\n",
      "25.0\n",
      "25.666666666666668\n",
      "------------------\n",
      "17.0\n",
      "11.8\n",
      "22.0\n",
      "17.0\n",
      "-----------------\n",
      "24.8\n",
      "29.333333333333332\n",
      "18.833333333333332\n",
      "28.4\n"
     ]
    }
   ],
   "source": [
    "print(df11m.mean())\n",
    "print(df12m.mean())\n",
    "print(df13m.mean())\n",
    "print(df14m.mean())\n",
    "print(\"------------------\")\n",
    "print(df21m.mean())\n",
    "print(df22m.mean())\n",
    "print(df23m.mean())\n",
    "print(df24m.mean())\n",
    "print(\"-----------------\")\n",
    "print(df31m.mean())\n",
    "print(df32m.mean())\n",
    "print(df33m.mean())\n",
    "print(df34m.mean())"
   ]
  },
  {
   "cell_type": "code",
   "execution_count": 13,
   "metadata": {},
   "outputs": [
    {
     "name": "stdout",
     "output_type": "stream",
     "text": [
      "8.367\n",
      "1.785\n",
      "14.601\n",
      "17.308\n",
      "-------------\n",
      "13.312\n",
      "5.269\n",
      "1.225\n",
      "5.431\n",
      "-----------------\n",
      "19.135\n",
      "29.364\n",
      "8.591\n",
      "13.002\n"
     ]
    }
   ],
   "source": [
    "print(round(np.std(df11m), 3))\n",
    "print(round(np.std(df12m), 3))\n",
    "print(round(np.std(df13m), 3))\n",
    "print(round(np.std(df14m), 3))\n",
    "print(\"-------------\")\n",
    "print(round(np.std(df21m), 3))\n",
    "print(round(np.std(df22m), 3))\n",
    "print(round(np.std(df23m), 3))\n",
    "print(round(np.std(df24m), 3))\n",
    "print(\"-----------------\")\n",
    "print(round(np.std(df31m), 3))\n",
    "print(round(np.std(df32m), 3))\n",
    "print(round(np.std(df33m), 3))\n",
    "print(round(np.std(df34m), 3))"
   ]
  },
  {
   "cell_type": "code",
   "execution_count": 46,
   "metadata": {},
   "outputs": [
    {
     "data": {
      "text/plain": [
       "0    3.73\n",
       "1    4.59\n",
       "2    3.44\n",
       "3    3.80\n",
       "4    0.16\n",
       "5    2.66\n",
       "Name: 3look, dtype: float64"
      ]
     },
     "execution_count": 46,
     "metadata": {},
     "output_type": "execute_result"
    }
   ],
   "source": [
    "df33l"
   ]
  },
  {
   "cell_type": "markdown",
   "metadata": {},
   "source": [
    "## 重要語確認数"
   ]
  },
  {
   "cell_type": "code",
   "execution_count": 52,
   "metadata": {},
   "outputs": [
    {
     "name": "stdout",
     "output_type": "stream",
     "text": [
      "シャピロ・ウィルク検定\n",
      "標本11 p値 = 0.212\n",
      "標本12 p値 = 0.054\n",
      "標本13 p値 = 0.046\n",
      "標本14 p値 = 0.000\n",
      "------\n",
      "標本21 p値 = 0.110\n",
      "標本22 p値 = 0.091\n",
      "標本23 p値 = 0.006\n",
      "標本24 p値 = 0.046\n",
      "------\n",
      "標本31 p値 = 0.000\n",
      "標本32 p値 = 0.001\n",
      "標本33 p値 = 0.001\n",
      "標本34 p値 = 0.021\n"
     ]
    }
   ],
   "source": [
    "_, p1 = stats.shapiro(df11im)\n",
    "_, p2 = stats.shapiro(df12im)\n",
    "_, p3 = stats.shapiro(df13im)\n",
    "_, p4 = stats.shapiro(df14im)\n",
    "_, p5 = stats.shapiro(df21im)\n",
    "_, p6 = stats.shapiro(df22im)\n",
    "_, p7 = stats.shapiro(df23im)\n",
    "_, p8 = stats.shapiro(df24im)\n",
    "_, p9 = stats.shapiro(df31im)\n",
    "_, p10 = stats.shapiro(df32im)\n",
    "_, p11 = stats.shapiro(df33im)\n",
    "_, p12 = stats.shapiro(df34im)\n",
    "\n",
    "print('シャピロ・ウィルク検定')\n",
    "print(f'標本11 p値 = {p1:.3f}')\n",
    "print(f'標本12 p値 = {p2:.3f}')\n",
    "print(f'標本13 p値 = {p3:.3f}')\n",
    "print(f'標本14 p値 = {p4:.3f}')\n",
    "print(\"------\")\n",
    "print(f'標本21 p値 = {p5:.3f}')\n",
    "print(f'標本22 p値 = {p6:.3f}')\n",
    "print(f'標本23 p値 = {p7:.3f}')\n",
    "print(f'標本24 p値 = {p8:.3f}')\n",
    "print(\"------\")\n",
    "print(f'標本31 p値 = {p9:.3f}')\n",
    "print(f'標本32 p値 = {p10:.3f}')\n",
    "print(f'標本33 p値 = {p11:.3f}')\n",
    "print(f'標本34 p値 = {p12:.3f}')"
   ]
  },
  {
   "cell_type": "code",
   "execution_count": 71,
   "metadata": {},
   "outputs": [
    {
     "name": "stdout",
     "output_type": "stream",
     "text": [
      "19.000, 0.474\n"
     ]
    }
   ],
   "source": [
    "dfim1 = df13im\n",
    "dfim2 = df14im\n",
    "# print(dfim1)\n",
    "# print(dfim2)\n",
    "\n",
    "# t, p = stats.ttest_ind(dfim1, dfim2, equal_var = False)\n",
    "t, p = stats.mannwhitneyu(dfim1, dfim2, alternative='two-sided')\n",
    "print(f\"{t:.3f}, {p:.3f}\")"
   ]
  },
  {
   "cell_type": "code",
   "execution_count": 16,
   "metadata": {},
   "outputs": [
    {
     "name": "stdout",
     "output_type": "stream",
     "text": [
      "12.166666666666666\n",
      "11.5\n",
      "12.4\n",
      "12.0\n",
      "-----------------\n",
      "12.0\n",
      "12.333333333333334\n",
      "12.2\n",
      "12.4\n",
      "---------------\n",
      "9.0\n",
      "8.666666666666666\n",
      "8.333333333333334\n",
      "8.75\n"
     ]
    }
   ],
   "source": [
    "print(df11im.mean())\n",
    "print(df12im.mean())\n",
    "print(df13im.mean())\n",
    "print(df14im.mean())\n",
    "print(\"-----------------\")\n",
    "print(df21im.mean())\n",
    "print(df22im.mean())\n",
    "print(df23im.mean())\n",
    "print(df24im.mean())\n",
    "print(\"---------------\")\n",
    "print(df31im.mean())\n",
    "print(df32im.mean())\n",
    "print(df33im.mean())\n",
    "print(df34im.mean())"
   ]
  },
  {
   "cell_type": "code",
   "execution_count": 17,
   "metadata": {},
   "outputs": [
    {
     "name": "stdout",
     "output_type": "stream",
     "text": [
      "0.687\n",
      "0.5\n",
      "0.8\n",
      "0.0\n",
      "-------------\n",
      "1.155\n",
      "0.745\n",
      "0.98\n",
      "0.8\n",
      "-----------------\n",
      "0.0\n",
      "0.471\n",
      "0.471\n",
      "0.433\n"
     ]
    }
   ],
   "source": [
    "print(round(np.std(df11im), 3))\n",
    "print(round(np.std(df12im), 3))\n",
    "print(round(np.std(df13im), 3))\n",
    "print(round(np.std(df14im), 3))\n",
    "print(\"-------------\")\n",
    "print(round(np.std(df21im), 3))\n",
    "print(round(np.std(df22im), 3))\n",
    "print(round(np.std(df23im), 3))\n",
    "print(round(np.std(df24im), 3))\n",
    "print(\"-----------------\")\n",
    "print(round(np.std(df31im), 3))\n",
    "print(round(np.std(df32im), 3))\n",
    "print(round(np.std(df33im), 3))\n",
    "print(round(np.std(df34im), 3))"
   ]
  },
  {
   "cell_type": "markdown",
   "metadata": {},
   "source": [
    "## 分散分析"
   ]
  },
  {
   "cell_type": "code",
   "execution_count": 22,
   "metadata": {},
   "outputs": [
    {
     "name": "stdout",
     "output_type": "stream",
     "text": [
      "F-val:0.101,  P-val:0.958\n",
      "F-val:2.04,  P-val:0.146\n",
      "F-val:0.889,  P-val:0.466\n",
      "----------------\n",
      "F-val:0.617,  P-val:0.614\n",
      "F-val:0.857,  P-val:0.485\n",
      "F-val:1.21,  P-val:0.336\n",
      "---------------\n",
      "F-val:0.936,  P-val:0.445\n",
      "F-val:0.947,  P-val:0.444\n",
      "F-val:0.288,  P-val:0.834\n",
      "---------------\n",
      "F-val:1.45,  P-val:0.265\n",
      "F-val:0.165,  P-val:0.919\n",
      "F-val:1.77,  P-val:0.194\n"
     ]
    }
   ],
   "source": [
    "# 分散分析\n",
    "fvalue, pvalue = stats.f_oneway(df11p, df12p, df13p, df14p)\n",
    "print(f\"F-val:{fvalue:.3},  P-val:{pvalue:.3}\")\n",
    "fvalue, pvalue = stats.f_oneway(df21p, df22p, df23p, df24p)\n",
    "print(f\"F-val:{fvalue:.3},  P-val:{pvalue:.3}\")\n",
    "fvalue, pvalue = stats.f_oneway(df31p, df32p, df33p, df34p)\n",
    "print(f\"F-val:{fvalue:.3},  P-val:{pvalue:.3}\")\n",
    "print(\"----------------\")\n",
    "fvalue, pvalue = stats.f_oneway(df11l, df12l, df13l, df14l)\n",
    "print(f\"F-val:{fvalue:.3},  P-val:{pvalue:.3}\")\n",
    "fvalue, pvalue = stats.f_oneway(df21l, df22l, df23l, df24l)\n",
    "print(f\"F-val:{fvalue:.3},  P-val:{pvalue:.3}\")\n",
    "fvalue, pvalue = stats.f_oneway(df31l, df32l, df33l, df34l)\n",
    "print(f\"F-val:{fvalue:.3},  P-val:{pvalue:.3}\")\n",
    "print(\"---------------\")\n",
    "fvalue, pvalue = stats.f_oneway(df11m, df12m, df13m, df14m)\n",
    "print(f\"F-val:{fvalue:.3},  P-val:{pvalue:.3}\")\n",
    "fvalue, pvalue = stats.f_oneway(df21m, df22m, df23m, df24m)\n",
    "print(f\"F-val:{fvalue:.3},  P-val:{pvalue:.3}\")\n",
    "fvalue, pvalue = stats.f_oneway(df31m, df32m, df33m, df34m)\n",
    "print(f\"F-val:{fvalue:.3},  P-val:{pvalue:.3}\")\n",
    "print(\"---------------\")\n",
    "fvalue, pvalue = stats.f_oneway(df11im, df12im, df13im, df14im)\n",
    "print(f\"F-val:{fvalue:.3},  P-val:{pvalue:.3}\")\n",
    "fvalue, pvalue = stats.f_oneway(df21im, df22im, df23im, df24im)\n",
    "print(f\"F-val:{fvalue:.3},  P-val:{pvalue:.3}\")\n",
    "fvalue, pvalue = stats.f_oneway(df31im, df32im, df33im, df34im)\n",
    "print(f\"F-val:{fvalue:.3},  P-val:{pvalue:.3}\")"
   ]
  },
  {
   "cell_type": "code",
   "execution_count": 10,
   "metadata": {},
   "outputs": [
    {
     "name": "stdout",
     "output_type": "stream",
     "text": [
      "KruskalResult(statistic=0.6877749029754213, pvalue=0.8760755790170023)\n",
      "KruskalResult(statistic=2.4330917874396025, pvalue=0.4875043252601955)\n",
      "KruskalResult(statistic=3.0489754098360704, pvalue=0.38413559763027644)\n",
      "------------\n",
      "KruskalResult(statistic=1.3249011857707558, pvalue=0.7232287077989439)\n",
      "KruskalResult(statistic=1.3438735177865482, pvalue=0.7187421684422908)\n",
      "KruskalResult(statistic=1.5661016949152504, pvalue=0.6671002198127114)\n",
      "----------------\n",
      "KruskalResult(statistic=1.8498015873015872, pvalue=0.6041579759982232)\n",
      "KruskalResult(statistic=3.836934389140267, pvalue=0.27961917226911637)\n",
      "KruskalResult(statistic=0.6877331825890227, pvalue=0.8760853655997153)\n",
      "----------------\n",
      "KruskalResult(statistic=5.895152722443542, pvalue=0.1168242012551664)\n",
      "KruskalResult(statistic=0.3009278350515434, pvalue=0.9598538852162332)\n",
      "KruskalResult(statistic=2.3523809523809502, pvalue=0.5025604401045234)\n"
     ]
    }
   ],
   "source": [
    "# クラスカル・ウォリス検定\n",
    "print(kruskal(df11p, df12p, df13p, df14p))\n",
    "print(kruskal(df21p, df22p, df23p, df24p))\n",
    "print(kruskal(df31p, df32p, df33p, df34p))\n",
    "print(\"------------\")\n",
    "print(kruskal(df11l, df12l, df13l, df14l))\n",
    "print(kruskal(df21l, df22l, df23l, df24l))\n",
    "print(kruskal(df31l, df32l, df33l, df34l))\n",
    "print(\"----------------\")\n",
    "print(kruskal(df11m, df12m, df13m, df14m))\n",
    "print(kruskal(df21m, df22m, df23m, df24m))\n",
    "print(kruskal(df31m, df32m, df33m, df34m))\n",
    "print(\"----------------\")\n",
    "print(kruskal(df11im, df12im, df13im, df14im))\n",
    "print(kruskal(df21im, df22im, df23im, df24im))\n",
    "print(kruskal(df31im, df32im, df33im, df34im))"
   ]
  },
  {
   "cell_type": "code",
   "execution_count": 8,
   "metadata": {
    "scrolled": true
   },
   "outputs": [
    {
     "name": "stderr",
     "output_type": "stream",
     "text": [
      "<ipython-input-8-c8e402871640>:46: SettingWithCopyWarning: \n",
      "A value is trying to be set on a copy of a slice from a DataFrame\n",
      "\n",
      "See the caveats in the documentation: https://pandas.pydata.org/pandas-docs/stable/user_guide/indexing.html#returning-a-view-versus-a-copy\n",
      "  dfx[\"num\"][i] = \"a\"\n",
      "C:\\ProgramData\\Anaconda3\\lib\\site-packages\\pandas\\core\\indexing.py:671: SettingWithCopyWarning: \n",
      "A value is trying to be set on a copy of a slice from a DataFrame\n",
      "\n",
      "See the caveats in the documentation: https://pandas.pydata.org/pandas-docs/stable/user_guide/indexing.html#returning-a-view-versus-a-copy\n",
      "  self._setitem_with_indexer(indexer, value)\n",
      "<ipython-input-8-c8e402871640>:48: SettingWithCopyWarning: \n",
      "A value is trying to be set on a copy of a slice from a DataFrame\n",
      "\n",
      "See the caveats in the documentation: https://pandas.pydata.org/pandas-docs/stable/user_guide/indexing.html#returning-a-view-versus-a-copy\n",
      "  dfx[\"num\"][i] = \"b\"\n",
      "<ipython-input-8-c8e402871640>:50: SettingWithCopyWarning: \n",
      "A value is trying to be set on a copy of a slice from a DataFrame\n",
      "\n",
      "See the caveats in the documentation: https://pandas.pydata.org/pandas-docs/stable/user_guide/indexing.html#returning-a-view-versus-a-copy\n",
      "  dfx[\"num\"][i] = \"c\"\n",
      "<ipython-input-8-c8e402871640>:52: SettingWithCopyWarning: \n",
      "A value is trying to be set on a copy of a slice from a DataFrame\n",
      "\n",
      "See the caveats in the documentation: https://pandas.pydata.org/pandas-docs/stable/user_guide/indexing.html#returning-a-view-versus-a-copy\n",
      "  dfx[\"num\"][i] = \"d\"\n",
      "<ipython-input-8-c8e402871640>:56: SettingWithCopyWarning: \n",
      "A value is trying to be set on a copy of a slice from a DataFrame\n",
      "\n",
      "See the caveats in the documentation: https://pandas.pydata.org/pandas-docs/stable/user_guide/indexing.html#returning-a-view-versus-a-copy\n",
      "  dfx[\"num\"][i] = \"b\"\n",
      "<ipython-input-8-c8e402871640>:58: SettingWithCopyWarning: \n",
      "A value is trying to be set on a copy of a slice from a DataFrame\n",
      "\n",
      "See the caveats in the documentation: https://pandas.pydata.org/pandas-docs/stable/user_guide/indexing.html#returning-a-view-versus-a-copy\n",
      "  dfx[\"num\"][i] = \"c\"\n",
      "<ipython-input-8-c8e402871640>:60: SettingWithCopyWarning: \n",
      "A value is trying to be set on a copy of a slice from a DataFrame\n",
      "\n",
      "See the caveats in the documentation: https://pandas.pydata.org/pandas-docs/stable/user_guide/indexing.html#returning-a-view-versus-a-copy\n",
      "  dfx[\"num\"][i] = \"d\"\n",
      "<ipython-input-8-c8e402871640>:54: SettingWithCopyWarning: \n",
      "A value is trying to be set on a copy of a slice from a DataFrame\n",
      "\n",
      "See the caveats in the documentation: https://pandas.pydata.org/pandas-docs/stable/user_guide/indexing.html#returning-a-view-versus-a-copy\n",
      "  dfx[\"num\"][i] = \"a\"\n",
      "<ipython-input-8-c8e402871640>:66: SettingWithCopyWarning: \n",
      "A value is trying to be set on a copy of a slice from a DataFrame\n",
      "\n",
      "See the caveats in the documentation: https://pandas.pydata.org/pandas-docs/stable/user_guide/indexing.html#returning-a-view-versus-a-copy\n",
      "  dfx[\"num\"][i] = \"c\"\n",
      "<ipython-input-8-c8e402871640>:68: SettingWithCopyWarning: \n",
      "A value is trying to be set on a copy of a slice from a DataFrame\n",
      "\n",
      "See the caveats in the documentation: https://pandas.pydata.org/pandas-docs/stable/user_guide/indexing.html#returning-a-view-versus-a-copy\n",
      "  dfx[\"num\"][i] = \"d\"\n",
      "<ipython-input-8-c8e402871640>:62: SettingWithCopyWarning: \n",
      "A value is trying to be set on a copy of a slice from a DataFrame\n",
      "\n",
      "See the caveats in the documentation: https://pandas.pydata.org/pandas-docs/stable/user_guide/indexing.html#returning-a-view-versus-a-copy\n",
      "  dfx[\"num\"][i] = \"a\"\n",
      "<ipython-input-8-c8e402871640>:64: SettingWithCopyWarning: \n",
      "A value is trying to be set on a copy of a slice from a DataFrame\n",
      "\n",
      "See the caveats in the documentation: https://pandas.pydata.org/pandas-docs/stable/user_guide/indexing.html#returning-a-view-versus-a-copy\n",
      "  dfx[\"num\"][i] = \"b\"\n"
     ]
    },
    {
     "data": {
      "text/html": [
       "<div>\n",
       "<style scoped>\n",
       "    .dataframe tbody tr th:only-of-type {\n",
       "        vertical-align: middle;\n",
       "    }\n",
       "\n",
       "    .dataframe tbody tr th {\n",
       "        vertical-align: top;\n",
       "    }\n",
       "\n",
       "    .dataframe thead th {\n",
       "        text-align: right;\n",
       "    }\n",
       "</style>\n",
       "<table border=\"1\" class=\"dataframe\">\n",
       "  <thead>\n",
       "    <tr style=\"text-align: right;\">\n",
       "      <th></th>\n",
       "      <th>poi</th>\n",
       "      <th>movie</th>\n",
       "      <th>im</th>\n",
       "      <th>move</th>\n",
       "      <th>num</th>\n",
       "      <th>look</th>\n",
       "    </tr>\n",
       "  </thead>\n",
       "  <tbody>\n",
       "    <tr>\n",
       "      <th>0</th>\n",
       "      <td>2.0</td>\n",
       "      <td>ty</td>\n",
       "      <td>11</td>\n",
       "      <td>7.0</td>\n",
       "      <td>a</td>\n",
       "      <td>2.68</td>\n",
       "    </tr>\n",
       "    <tr>\n",
       "      <th>1</th>\n",
       "      <td>4.0</td>\n",
       "      <td>ty</td>\n",
       "      <td>12</td>\n",
       "      <td>16.0</td>\n",
       "      <td>b</td>\n",
       "      <td>1.16</td>\n",
       "    </tr>\n",
       "    <tr>\n",
       "      <th>2</th>\n",
       "      <td>4.0</td>\n",
       "      <td>ty</td>\n",
       "      <td>13</td>\n",
       "      <td>18.0</td>\n",
       "      <td>c</td>\n",
       "      <td>1.82</td>\n",
       "    </tr>\n",
       "    <tr>\n",
       "      <th>3</th>\n",
       "      <td>4.0</td>\n",
       "      <td>ty</td>\n",
       "      <td>13</td>\n",
       "      <td>38.0</td>\n",
       "      <td>d</td>\n",
       "      <td>6.47</td>\n",
       "    </tr>\n",
       "    <tr>\n",
       "      <th>4</th>\n",
       "      <td>3.0</td>\n",
       "      <td>ty</td>\n",
       "      <td>12</td>\n",
       "      <td>18.0</td>\n",
       "      <td>a</td>\n",
       "      <td>3.66</td>\n",
       "    </tr>\n",
       "    <tr>\n",
       "      <th>...</th>\n",
       "      <td>...</td>\n",
       "      <td>...</td>\n",
       "      <td>...</td>\n",
       "      <td>...</td>\n",
       "      <td>...</td>\n",
       "      <td>...</td>\n",
       "    </tr>\n",
       "    <tr>\n",
       "      <th>61</th>\n",
       "      <td>6.0</td>\n",
       "      <td>ci</td>\n",
       "      <td>9</td>\n",
       "      <td>36.0</td>\n",
       "      <td>d</td>\n",
       "      <td>5.23</td>\n",
       "    </tr>\n",
       "    <tr>\n",
       "      <th>62</th>\n",
       "      <td>7.0</td>\n",
       "      <td>ci</td>\n",
       "      <td>9</td>\n",
       "      <td>6.0</td>\n",
       "      <td>a</td>\n",
       "      <td>2.21</td>\n",
       "    </tr>\n",
       "    <tr>\n",
       "      <th>63</th>\n",
       "      <td>7.0</td>\n",
       "      <td>ci</td>\n",
       "      <td>9</td>\n",
       "      <td>6.0</td>\n",
       "      <td>b</td>\n",
       "      <td>0.15</td>\n",
       "    </tr>\n",
       "    <tr>\n",
       "      <th>64</th>\n",
       "      <td>4.0</td>\n",
       "      <td>ci</td>\n",
       "      <td>8</td>\n",
       "      <td>21.0</td>\n",
       "      <td>c</td>\n",
       "      <td>2.66</td>\n",
       "    </tr>\n",
       "    <tr>\n",
       "      <th>65</th>\n",
       "      <td>4.0</td>\n",
       "      <td>ci</td>\n",
       "      <td>8</td>\n",
       "      <td>4.0</td>\n",
       "      <td>b</td>\n",
       "      <td>1.57</td>\n",
       "    </tr>\n",
       "  </tbody>\n",
       "</table>\n",
       "<p>66 rows × 6 columns</p>\n",
       "</div>"
      ],
      "text/plain": [
       "    poi movie  im  move num  look\n",
       "0   2.0    ty  11   7.0   a  2.68\n",
       "1   4.0    ty  12  16.0   b  1.16\n",
       "2   4.0    ty  13  18.0   c  1.82\n",
       "3   4.0    ty  13  38.0   d  6.47\n",
       "4   3.0    ty  12  18.0   a  3.66\n",
       "..  ...   ...  ..   ...  ..   ...\n",
       "61  6.0    ci   9  36.0   d  5.23\n",
       "62  7.0    ci   9   6.0   a  2.21\n",
       "63  7.0    ci   9   6.0   b  0.15\n",
       "64  4.0    ci   8  21.0   c  2.66\n",
       "65  4.0    ci   8   4.0   b  1.57\n",
       "\n",
       "[66 rows x 6 columns]"
      ]
     },
     "execution_count": 8,
     "metadata": {},
     "output_type": "execute_result"
    }
   ],
   "source": [
    "# 科目ごとにまとめる\n",
    "dft = df.iloc[:, 1:5]\n",
    "# print(dft)\n",
    "dft[\"num\"] = dft[\"ty_num\"]\n",
    "dft[\"poi\"] = dft[\"ty_poi\"]\n",
    "dft[\"look\"] = dft[\"ty_look\"]\n",
    "dft[\"move\"] = df_m[\"ty_m\"]\n",
    "dft[\"im\"] = df_im[\"ty_ch\"]\n",
    "dft[\"movie\"] = \"ty\"\n",
    "dft = dft[[\"num\", \"poi\", \"look\", \"move\", \"im\", \"movie\"]]\n",
    "\n",
    "\n",
    "dfa = df.iloc[:, 5:9]\n",
    "# print(dfa.head())\n",
    "dfa[\"num\"] = dfa[\"au_num\"]\n",
    "dfa[\"poi\"] = dfa[\"au_poi\"]\n",
    "dfa[\"look\"] = dfa[\"au_look\"]\n",
    "dfa[\"move\"] = df_m[\"au_m\"]\n",
    "dfa[\"im\"] = df_im[\"au_ch\"]\n",
    "dfa[\"movie\"] = \"au\"\n",
    "dfa = dfa[[\"num\", \"poi\", \"look\", \"move\", \"im\", \"movie\"]]\n",
    "\n",
    "\n",
    "dfc = df.iloc[:, 9:15]\n",
    "# print(dfc.head())\n",
    "dfc[\"num\"] = dfc[\"ci_num\"]\n",
    "dfc[\"poi\"] = dfc[\"ci_poi\"]\n",
    "dfc[\"look\"] = dfc[\"ci_look\"]\n",
    "dfc[\"move\"] = df_m[\"ci_m\"]\n",
    "dfc[\"im\"] = df_im[\"ci_ch\"]\n",
    "dfc[\"movie\"] = \"ci\"\n",
    "dfc = dfc[[\"num\", \"poi\", \"look\", \"move\", \"im\", \"movie\"]]\n",
    "# print(dft)\n",
    "\n",
    "# 作ったDFを縦結合\n",
    "dfx = pd.concat([dft, dfa, dfc])\n",
    "dfx = dfx.reindex(columns={\"num\", \"movie\", \"poi\", \"look\", \"move\", \"im\"}).reset_index(drop=True)\n",
    "# df_x = pd.concat([df_12x. df_13x])\n",
    "# print(df_11x.head(2))\n",
    "# dfx\n",
    "\n",
    "# 講義の種類を記号で統一\n",
    "for i in range(len(dfx)):\n",
    "#     print(i)\n",
    "    if dfx[\"num\"][i] == 1:\n",
    "        dfx[\"num\"][i] = \"a\"\n",
    "    elif dfx[\"num\"][i] == 2:\n",
    "        dfx[\"num\"][i] = \"b\"\n",
    "    elif dfx[\"num\"][i] == 3:\n",
    "        dfx[\"num\"][i] = \"c\"\n",
    "    elif dfx[\"num\"][i] == 4:\n",
    "        dfx[\"num\"][i] = \"d\"\n",
    "    elif dfx[\"num\"][i] == 5:\n",
    "        dfx[\"num\"][i] = \"a\"\n",
    "    elif dfx[\"num\"][i] == 6:\n",
    "        dfx[\"num\"][i] = \"b\"\n",
    "    elif dfx[\"num\"][i] == 7:\n",
    "        dfx[\"num\"][i] = \"c\"\n",
    "    elif dfx[\"num\"][i] == 8:\n",
    "        dfx[\"num\"][i] = \"d\"\n",
    "    elif dfx[\"num\"][i] == 9:\n",
    "        dfx[\"num\"][i] = \"a\"\n",
    "    elif dfx[\"num\"][i] == 10:\n",
    "        dfx[\"num\"][i] = \"b\"\n",
    "    elif dfx[\"num\"][i] == 11:\n",
    "        dfx[\"num\"][i] = \"c\"\n",
    "    elif dfx[\"num\"][i] == 12:\n",
    "        dfx[\"num\"][i] = \"d\"\n",
    "    \n",
    "\n",
    "dfxp = dfx[[\"num\", \"movie\", \"poi\"]] # 点数\n",
    "dfxl = dfx[[\"num\", \"movie\", \"look\"]] # 注視割合\n",
    "dfxm = dfx[[\"num\", \"movie\", \"move\"]] # 視線移動\n",
    "dfxim = dfx[[\"num\", \"movie\", \"im\"]] # 重要語確認数\n",
    "dfx"
   ]
  },
  {
   "cell_type": "code",
   "execution_count": 118,
   "metadata": {},
   "outputs": [
    {
     "name": "stdout",
     "output_type": "stream",
     "text": [
      "[[                  平方和  自由度         F値            p値\n",
      "movie      117.165076  2.0  31.943356  6.999715e-10\n",
      "num          2.003312  3.0   0.364116  7.791587e-01\n",
      "movie:num    9.963355  6.0   0.905455  4.979946e-01,                  平方和  自由度        F値        p値\n",
      "movie       2.068795  2.0  0.075665  0.927225\n",
      "num        31.166378  3.0  0.759925  0.521505\n",
      "movie:num  32.921962  6.0  0.401365  0.874908,                    平方和  自由度        F値        p値\n",
      "movie       159.668037  2.0  0.225194  0.799107\n",
      "num         203.223852  3.0  0.191083  0.902026\n",
      "movie:num  1367.382209  6.0  0.642847  0.695466,                   平方和  自由度          F値            p値\n",
      "movie      186.366209  2.0  106.457426  1.830491e-19\n",
      "num          1.228175  3.0    0.467711  7.060237e-01\n",
      "movie:num    8.686977  6.0    1.654079  1.503296e-01]]\n",
      "                            OLS Regression Results                            \n",
      "==============================================================================\n",
      "Dep. Variable:                   move   R-squared:                       0.082\n",
      "Model:                            OLS   Adj. R-squared:                 -0.105\n",
      "Method:                 Least Squares   F-statistic:                    0.4403\n",
      "Date:                Fri, 19 Jan 2024   Prob (F-statistic):              0.930\n",
      "Time:                        18:08:14   Log-Likelihood:                -280.76\n",
      "No. Observations:                  66   AIC:                             585.5\n",
      "Df Residuals:                      54   BIC:                             611.8\n",
      "Df Model:                          11                                         \n",
      "Covariance Type:            nonrobust                                         \n",
      "========================================================================================\n",
      "                           coef    std err          t      P>|t|      [0.025      0.975]\n",
      "----------------------------------------------------------------------------------------\n",
      "Intercept               28.3333      7.687      3.686      0.001      12.922      43.744\n",
      "movie[T.ci]             -3.5333     11.401     -0.310      0.758     -26.391      19.325\n",
      "movie[T.ty]            -14.3333     10.871     -1.319      0.193     -36.128       7.461\n",
      "num[T.b]               -13.5000     10.871     -1.242      0.220     -35.294       8.294\n",
      "num[T.c]                -1.3333     11.401     -0.117      0.907     -24.191      21.525\n",
      "num[T.d]                -3.1333     11.401     -0.275      0.784     -25.991      19.725\n",
      "movie[T.ci]:num[T.b]    18.0333     15.753      1.145      0.257     -13.550      49.616\n",
      "movie[T.ty]:num[T.b]    21.9000     15.753      1.390      0.170      -9.683      53.483\n",
      "movie[T.ci]:num[T.c]    -4.6333     16.124     -0.287      0.775     -36.960      27.693\n",
      "movie[T.ty]:num[T.c]    12.3333     16.124      0.765      0.448     -19.993      44.660\n",
      "movie[T.ci]:num[T.d]     6.7333     16.486      0.408      0.685     -26.319      39.786\n",
      "movie[T.ty]:num[T.d]    14.8000     15.753      0.940      0.352     -16.783      46.383\n",
      "==============================================================================\n",
      "Omnibus:                       18.708   Durbin-Watson:                   1.974\n",
      "Prob(Omnibus):                  0.000   Jarque-Bera (JB):               23.769\n",
      "Skew:                           1.207   Prob(JB):                     6.90e-06\n",
      "Kurtosis:                       4.678   Cond. No.                         17.4\n",
      "==============================================================================\n",
      "\n",
      "Warnings:\n",
      "[1] Standard Errors assume that the covariance matrix of the errors is correctly specified.\n"
     ]
    }
   ],
   "source": [
    "# 二元分散分析\n",
    "pformula = 'poi ~ (movie) + (num) + (movie):(num)'\n",
    "pmodel = ols(pformula, dfxp).fit()\n",
    "paov_table = anova_lm(pmodel, typ=2)\n",
    "paov_table.columns = [\"平方和\",\"自由度\",\"F値\",\"p値\"]\n",
    "\n",
    "lformula = 'look ~ (movie) + (num) + (movie):(num)'\n",
    "lmodel = ols(lformula, dfxl).fit()\n",
    "laov_table = anova_lm(lmodel, typ=2)\n",
    "laov_table.columns = [\"平方和\",\"自由度\",\"F値\",\"p値\"]\n",
    "\n",
    "mformula = 'move ~ (movie) + (num) + (movie):(num)'\n",
    "mmodel = ols(mformula, dfxm).fit()\n",
    "maov_table = anova_lm(mmodel, typ=2)\n",
    "maov_table.columns = [\"平方和\",\"自由度\",\"F値\",\"p値\"] #列名を日本語に差し替え\n",
    "\n",
    "imformula = 'im ~ (movie) + (num) + (movie):(num)'\n",
    "immodel = ols(imformula, dfxim).fit()\n",
    "imaov_table = anova_lm(immodel, typ=2)\n",
    "imaov_table.columns = [\"平方和\",\"自由度\",\"F値\",\"p値\"]\n",
    "\n",
    "aov_table = [[paov_table[0:3], laov_table[0:3], maov_table[0:3], imaov_table[0:3]]]\n",
    "print(aov_table) #被験者間効果の検定結果を出力\n",
    "print(model.summary())"
   ]
  },
  {
   "cell_type": "code",
   "execution_count": 113,
   "metadata": {},
   "outputs": [
    {
     "data": {
      "text/plain": [
       "movie        6.999715e-10\n",
       "num          7.791587e-01\n",
       "movie:num    4.979946e-01\n",
       "Name: p値, dtype: float64"
      ]
     },
     "execution_count": 113,
     "metadata": {},
     "output_type": "execute_result"
    }
   ],
   "source": [
    "# paov_table['p値'][0:3]"
   ]
  },
  {
   "cell_type": "code",
   "execution_count": 52,
   "metadata": {},
   "outputs": [
    {
     "name": "stdout",
     "output_type": "stream",
     "text": [
      "                    平方和   自由度        F値        p値\n",
      "movie        184.711625   2.0  0.311917  0.733352\n",
      "num          154.272454   3.0  0.173677  0.913745\n",
      "movie:num   1101.645727   6.0  0.620106  0.713295\n",
      "Residual   15988.900000  54.0       NaN       NaN\n"
     ]
    }
   ],
   "source": [
    "# print(aov_table) #被験者間効果の検定結果を出力"
   ]
  },
  {
   "cell_type": "markdown",
   "metadata": {},
   "source": [
    "## その他"
   ]
  },
  {
   "cell_type": "markdown",
   "metadata": {},
   "source": [
    "### アンケート"
   ]
  },
  {
   "cell_type": "code",
   "execution_count": 17,
   "metadata": {},
   "outputs": [],
   "source": [
    "dfq = df\n",
    "dfq1 = dfq[(dfq[\"num\"]==1) | (dfq[\"num\"]==5) | (dfq[\"num\"]==9)]\n",
    "dfq2 = dfq[(dfq[\"num\"]==2) | (dfq[\"num\"]==6) | (dfq[\"num\"]==10)]\n",
    "dfq3 = dfq[(dfq[\"num\"]==3) | (dfq[\"num\"]==7) | (dfq[\"num\"]==11)]\n",
    "dfq4 = dfq[(dfq[\"num\"]==4) | (dfq[\"num\"]==8) | (dfq[\"num\"]==12)]\n",
    "# dfq3"
   ]
  }
 ],
 "metadata": {
  "kernelspec": {
   "display_name": "Python 3",
   "language": "python",
   "name": "python3"
  },
  "language_info": {
   "codemirror_mode": {
    "name": "ipython",
    "version": 3
   },
   "file_extension": ".py",
   "mimetype": "text/x-python",
   "name": "python",
   "nbconvert_exporter": "python",
   "pygments_lexer": "ipython3",
   "version": "3.8.3"
  }
 },
 "nbformat": 4,
 "nbformat_minor": 4
}
